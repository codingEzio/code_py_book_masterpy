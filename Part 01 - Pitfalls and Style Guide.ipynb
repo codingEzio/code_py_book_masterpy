{
 "cells": [
  {
   "cell_type": "markdown",
   "metadata": {},
   "source": [
    "<hr>\n",
    "第一章較基礎不再列出<br>\n",
    "以下直接自第二章起始\n",
    "<hr>"
   ]
  },
  {
   "cell_type": "markdown",
   "metadata": {},
   "source": [
    "#### about PEP\n",
    "\n",
    "- fullname: *Python Enhancement Proposal*\n",
    "\n",
    "- The PEP process allows anyone to submit a PEP <br>with a technical specification of the feature and a rationable to defend its usefulness.\n",
    "\n",
    "- After a discussion on the Python mailing lists and possibly some improvements,<br> the BDFL <small>(*Guido van Rossum*)</small> will make a decision to accept or reject the proposal."
   ]
  },
  {
   "cell_type": "markdown",
   "metadata": {},
   "source": [
    "#### Beautiful is better than ugly."
   ]
  },
  {
   "cell_type": "code",
   "execution_count": 17,
   "metadata": {},
   "outputs": [
    {
     "data": {
      "text/plain": [
       "[2, 4]"
      ]
     },
     "execution_count": 17,
     "metadata": {},
     "output_type": "execute_result"
    },
    {
     "data": {
      "text/plain": [
       "<generator object ftm_gr at 0x106120150>"
      ]
     },
     "execution_count": 17,
     "metadata": {},
     "output_type": "execute_result"
    }
   ],
   "source": [
    "# What does these functions do?\n",
    "#   [10,20,30] | 20 --> 10,30\n",
    "#   [1,2,6,4]  | 3  --> 1,2,4\n",
    "\n",
    "\n",
    "def ftm(items,modulo):\n",
    "    output = []\n",
    "    for i in range(len(items)):\n",
    "        if items[i] % modulo == 0:\n",
    "            output.append(items[i])\n",
    "    return output\n",
    "\n",
    "\n",
    "def ftm_gr(items,modulo):\n",
    "    for item in items:\n",
    "        if item % modulo == 0:\n",
    "            yield item\n",
    "            \n",
    "    \n",
    "ftm([1,2,3,4],2)            \n",
    "ftm_gr([1,2,3,4],2)  # list() is required"
   ]
  },
  {
   "cell_type": "markdown",
   "metadata": {},
   "source": [
    "<p></p>\n",
    "<hr>\n",
    "\n",
    "<p>If we need to store a bit of data, what options do we I have?</p>\n",
    "\n",
    "| Type | Option | \n",
    "| --- | --- | \n",
    "| Full database Server | MySQL, PostgreSQL |\n",
    "| Simple file system database | SQLite, AnyDBM |\n",
    "| Flat file storage | CSV |\n",
    "| Structured storage | JSON, YAML, XML |\n",
    "| Serialized Python | Pickle, Marshal |\n",
    "\n",
    "<hr>\n",
    "<p></p>"
   ]
  },
  {
   "cell_type": "markdown",
   "metadata": {},
   "source": [
    "#### Errors should never pass silently."
   ]
  },
  {
   "cell_type": "code",
   "execution_count": null,
   "metadata": {},
   "outputs": [],
   "source": [
    "import logging \n",
    "\n",
    "# WARNNING!! \n",
    "\n",
    "try:\n",
    "    # value = int(input())\n",
    "except Exception as e:\n",
    "    logging.warning(\"Uncaught exception %r\",e)"
   ]
  },
  {
   "cell_type": "markdown",
   "metadata": {},
   "source": [
    "#### Comparsions between value and identity"
   ]
  },
  {
   "cell_type": "code",
   "execution_count": 16,
   "metadata": {},
   "outputs": [
    {
     "name": "stdout",
     "output_type": "stream",
     "text": [
      "256 == 256: True\n",
      "256 is 256: True\n",
      "\n",
      "257 == 257: True\n",
      "257 is 257: False\n"
     ]
    }
   ],
   "source": [
    "a = 200 + 56\n",
    "b = 256\n",
    "\n",
    "c = 200 + 57\n",
    "d = 257\n",
    "\n",
    "print(\"{!r} == {!r}: {!r}\".format(a,b,a==b))\n",
    "print(\"{!r} is {!r}: {!r}\".format(a,b,a is b))\n",
    "\n",
    "print()\n",
    "\n",
    "print(\"{!r} == {!r}: {!r}\".format(c,d, c == d))\n",
    "print(\"{!r} is {!r}: {!r}\".format(c,d, c is d))"
   ]
  },
  {
   "cell_type": "code",
   "execution_count": 19,
   "metadata": {},
   "outputs": [
    {
     "data": {
      "text/plain": [
       "False"
      ]
     },
     "execution_count": 19,
     "metadata": {},
     "output_type": "execute_result"
    },
    {
     "data": {
      "text/plain": [
       "False"
      ]
     },
     "execution_count": 19,
     "metadata": {},
     "output_type": "execute_result"
    }
   ],
   "source": [
    "spam = range(100000)\n",
    "eggs = range(100000)\n",
    "\n",
    "\n",
    "# same operation\n",
    "\n",
    "spam is eggs \n",
    "id(spam) == id(eggs)"
   ]
  },
  {
   "cell_type": "markdown",
   "metadata": {},
   "source": [
    "#### Scope"
   ]
  },
  {
   "cell_type": "code",
   "execution_count": 26,
   "metadata": {},
   "outputs": [
    {
     "name": "stderr",
     "output_type": "stream",
     "text": [
      "WARNING:root:local variable 'spam' referenced before assignment\n"
     ]
    }
   ],
   "source": [
    "import logging \n",
    "\n",
    "# 此處僅列出從前 未遇到過的案例\n",
    "\n",
    "spam = 1\n",
    "\n",
    "def eggs():\n",
    "    spam = spam + 1\n",
    "    print(spam)\n",
    "    \n",
    "try:\n",
    "    eggs()\n",
    "except Exception as e:\n",
    "    logging.warning(e)\n",
    "    \n",
    "# Why?\n",
    "#   the spam in eggs cannot use the outer spam\n",
    "#     outer spam is 'Global' scope \n",
    "#     inner spam in eggs is 'Local' scope\n",
    "\n",
    "# How to solve it?\n",
    "#   tell python 'global spam' in eggs() \n",
    "#   then you can use the outer spam directly \n",
    "\n",
    "# like this \n",
    "def eggs_fix():\n",
    "    global spam\n",
    "    spam = spam + 1\n",
    "    print(spam)\n",
    "    \n",
    "# BUT, any of these cases should be AVOID!!"
   ]
  },
  {
   "cell_type": "markdown",
   "metadata": {},
   "source": [
    "#### Modifying while iterating "
   ]
  },
  {
   "cell_type": "code",
   "execution_count": 35,
   "metadata": {},
   "outputs": [],
   "source": [
    "dict_ = {'name':'alex'}\n",
    "\n",
    "\n",
    "try:\n",
    "    \n",
    "    for i in dict_:\n",
    "        del dict_[i]\n",
    "        \n",
    "except RuntimeError:\n",
    "    \n",
    "    for i in list(dict_):  # this line creates a copy of the keys\n",
    "        del dict_[i]"
   ]
  },
  {
   "cell_type": "markdown",
   "metadata": {},
   "source": [
    "#### Late binding - be careful with closures"
   ]
  },
  {
   "cell_type": "code",
   "execution_count": 41,
   "metadata": {},
   "outputs": [
    {
     "name": "stdout",
     "output_type": "stream",
     "text": [
      "10\n",
      "10\n",
      "10\n"
     ]
    }
   ],
   "source": [
    "eggs = [ lambda a: i*a for i in range(3) ]\n",
    "\n",
    "for egg in eggs:\n",
    "    print(egg(5))"
   ]
  },
  {
   "cell_type": "code",
   "execution_count": 43,
   "metadata": {},
   "outputs": [
    {
     "name": "stdout",
     "output_type": "stream",
     "text": [
      "0\n",
      "5\n",
      "10\n"
     ]
    }
   ],
   "source": [
    "import functools \n",
    "\n",
    "eggs = [ functools.partial(lambda i, a: i*a, i) for i in range(3) ]\n",
    "\n",
    "for egg in eggs:\n",
    "    print(egg(5))"
   ]
  }
 ],
 "metadata": {
  "kernelspec": {
   "display_name": "Python 3",
   "language": "python",
   "name": "python3"
  },
  "language_info": {
   "codemirror_mode": {
    "name": "ipython",
    "version": 3
   },
   "file_extension": ".py",
   "mimetype": "text/x-python",
   "name": "python",
   "nbconvert_exporter": "python",
   "pygments_lexer": "ipython3",
   "version": "3.6.5"
  }
 },
 "nbformat": 4,
 "nbformat_minor": 2
}
