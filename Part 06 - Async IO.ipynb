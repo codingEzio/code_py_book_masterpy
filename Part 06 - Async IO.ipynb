{
 "cells": [
  {
   "cell_type": "markdown",
   "metadata": {},
   "source": [
    "covered topics \n",
    "- *asyncio* lib\n",
    "- *future* lib\n",
    "- parallel execution\n",
    "- server | client"
   ]
  },
  {
   "cell_type": "markdown",
   "metadata": {},
   "source": [
    "foreword\n",
    "- There's an ***asyncore*** module (since Python 1.5).\n",
    "- Third-party libraries: ***gevent***, ***eventlet*** etc.\n",
    "- The ***asyncio*** was introduced for Python **3.4**, \"*big*\" syntax change in **3.5**.\n",
    "\n",
    "also \n",
    "- Some code will be stored in the ```.py``` file<br>cuz there's some code will *kill* the jupyter kernel and ***executed incorrectly***."
   ]
  },
  {
   "cell_type": "markdown",
   "metadata": {},
   "source": [
    "### 0x01 - Difference"
   ]
  },
  {
   "cell_type": "code",
   "execution_count": 10,
   "metadata": {},
   "outputs": [],
   "source": [
    "import asyncio"
   ]
  },
  {
   "cell_type": "code",
   "execution_count": 11,
   "metadata": {},
   "outputs": [],
   "source": [
    "# Python 3.4 \n",
    "\n",
    "@asyncio.coroutine\n",
    "def sleeper():\n",
    "    yield from asyncio.sleep(1)"
   ]
  },
  {
   "cell_type": "markdown",
   "metadata": {},
   "source": [
    "about new syntax \n",
    "- You can use the decorator instead of ```async``` for compatability.\n",
    "- using ```await``` u need (one of)\n",
    "    1. a native coroutine created by ```async def```\n",
    "    2. ***OR*** a coroutine with the ```@asyncio.coroutine``` (deco)\n",
    "    3. ***OR*** an object that implements thr ```__await__``` method"
   ]
  },
  {
   "cell_type": "markdown",
   "metadata": {},
   "source": [
    "thing u may wanna convert to\n",
    "- ```async def```, ```await ASYNC_RESULT```\n",
    "- ```async for .. in```\n",
    "- ```async with```"
   ]
  },
  {
   "cell_type": "code",
   "execution_count": 12,
   "metadata": {},
   "outputs": [],
   "source": [
    "# Python 3.5 \n",
    "\n",
    "async def sleeper():        # or `async` => `@asyncio.coroutine` (as deco)\n",
    "    await asyncio.sleep(1)  # still `yield from` (its wrapper & some checks)"
   ]
  },
  {
   "cell_type": "markdown",
   "metadata": {},
   "source": [
    "### 0x02"
   ]
  },
  {
   "cell_type": "markdown",
   "metadata": {},
   "source": [
    "thoughts\n",
    "- <q>*not blocking the main thread*</q>\n",
    "- make the code weren't be stalled with multiple functions\n",
    "\n",
    "quotes\n",
    "1. instead of ```while True: fh.read()``` (always busy),\n",
    "2. we can just respond whenever there's new data (by using ```asyncio```)"
   ]
  },
  {
   "cell_type": "markdown",
   "metadata": {},
   "source": [
    "### 0x03"
   ]
  },
  {
   "cell_type": "code",
   "execution_count": 13,
   "metadata": {},
   "outputs": [],
   "source": [
    "async def sleeper(delay):\n",
    "    await asyncio.sleep(delay)  # wait! It's not the sleep I've used! XDD\n",
    "    print(f'finished `sleeper` with delay: {delay}')"
   ]
  },
  {
   "cell_type": "code",
   "execution_count": 14,
   "metadata": {
    "scrolled": true
   },
   "outputs": [
    {
     "name": "stdout",
     "output_type": "stream",
     "text": [
      "finished `sleeper` with delay: 0.5\n",
      "finished `sleeper` with delay: 1.0\n",
      "finished `sleeper` with delay: 2.5\n"
     ]
    }
   ],
   "source": [
    "loop = asyncio.get_event_loop()\n",
    "\n",
    "try:\n",
    "    result = loop.run_until_complete(asyncio.wait((\n",
    "        sleeper(0.5),  \n",
    "        sleeper(2.5),  # shown in the end \n",
    "        sleeper(1.0), \n",
    "    )))\n",
    "except RuntimeError: \n",
    "    pass"
   ]
  },
  {
   "cell_type": "markdown",
   "metadata": {},
   "source": [
    "### 0x04 "
   ]
  },
  {
   "cell_type": "code",
   "execution_count": 15,
   "metadata": {},
   "outputs": [
    {
     "name": "stdout",
     "output_type": "stream",
     "text": [
      "\r\n",
      "import asyncio\r\n",
      "\r\n",
      "\r\n",
      "async def sleepx(delay):\r\n",
      "    await asyncio.sleep(delay) \r\n",
      "    print(f'Finished `sleeper` with delay: {delay}') \r\n",
      "    \r\n",
      "loop = asyncio.get_event_loop()\r\n",
      "\r\n",
      "result = loop.call_soon(loop.create_task, sleepx(1))\r\n",
      "result = loop.call_later(4, loop.stop)\r\n",
      "\r\n",
      "loop.run_forever()"
     ]
    }
   ],
   "source": [
    "# check this out\n",
    "\n",
    "!cat ./lib/part_06_asyncio/001_futures_and_tasks.py"
   ]
  },
  {
   "cell_type": "code",
   "execution_count": 16,
   "metadata": {},
   "outputs": [
    {
     "name": "stdout",
     "output_type": "stream",
     "text": [
      "\r\n",
      "import asyncio \r\n",
      "\r\n",
      "async def stack_printer():\r\n",
      "    for t in asyncio.Task.all_tasks():\r\n",
      "        t.print_stack()\r\n",
      "\r\n",
      "loop = asyncio.get_event_loop()\r\n",
      "\r\n",
      "result = loop.run_until_complete(stack_printer())"
     ]
    }
   ],
   "source": [
    "# and this one \n",
    "\n",
    "!cat ./lib/part_06_asyncio/002_debugging_it.py"
   ]
  },
  {
   "cell_type": "code",
   "execution_count": null,
   "metadata": {},
   "outputs": [],
   "source": []
  }
 ],
 "metadata": {
  "kernelspec": {
   "display_name": "Python 3",
   "language": "python",
   "name": "python3"
  },
  "language_info": {
   "codemirror_mode": {
    "name": "ipython",
    "version": 3
   },
   "file_extension": ".py",
   "mimetype": "text/x-python",
   "name": "python",
   "nbconvert_exporter": "python",
   "pygments_lexer": "ipython3",
   "version": "3.6.5"
  }
 },
 "nbformat": 4,
 "nbformat_minor": 2
}
