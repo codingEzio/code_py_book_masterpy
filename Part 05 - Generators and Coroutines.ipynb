{
 "cells": [
  {
   "cell_type": "markdown",
   "metadata": {},
   "source": [
    "covered topics \n",
    "- details about generator \n",
    "- generator *comprehension* / *func* / *class*\n",
    "- bundled generators \n",
    "- coroutines"
   ]
  },
  {
   "cell_type": "markdown",
   "metadata": {},
   "source": [
    "things I've missed \n",
    "- pros and cons about *generator*"
   ]
  },
  {
   "cell_type": "markdown",
   "metadata": {},
   "source": [
    "### generators"
   ]
  },
  {
   "cell_type": "markdown",
   "metadata": {},
   "source": [
    "count func"
   ]
  },
  {
   "cell_type": "code",
   "execution_count": 31,
   "metadata": {
    "scrolled": true
   },
   "outputs": [
    {
     "data": {
      "text/plain": [
       "10"
      ]
     },
     "execution_count": 31,
     "metadata": {},
     "output_type": "execute_result"
    },
    {
     "data": {
      "text/plain": [
       "12.5"
      ]
     },
     "execution_count": 31,
     "metadata": {},
     "output_type": "execute_result"
    },
    {
     "data": {
      "text/plain": [
       "15.0"
      ]
     },
     "execution_count": 31,
     "metadata": {},
     "output_type": "execute_result"
    }
   ],
   "source": [
    "def count(start=0, step=1, end=10):\n",
    "    n = start \n",
    "    while n <= end:\n",
    "        yield n \n",
    "        n += step \n",
    "\n",
    "        \n",
    "for x in count(10, 2.5, 15):\n",
    "    x "
   ]
  },
  {
   "cell_type": "markdown",
   "metadata": {},
   "source": [
    "count class"
   ]
  },
  {
   "cell_type": "code",
   "execution_count": 32,
   "metadata": {
    "scrolled": true
   },
   "outputs": [
    {
     "data": {
      "text/plain": [
       "10"
      ]
     },
     "execution_count": 32,
     "metadata": {},
     "output_type": "execute_result"
    },
    {
     "data": {
      "text/plain": [
       "12.5"
      ]
     },
     "execution_count": 32,
     "metadata": {},
     "output_type": "execute_result"
    },
    {
     "data": {
      "text/plain": [
       "15.0"
      ]
     },
     "execution_count": 32,
     "metadata": {},
     "output_type": "execute_result"
    }
   ],
   "source": [
    "class Count(object):\n",
    "    def __init__(self, start=0, step=1, end=10):\n",
    "        self.n    = start \n",
    "        self.step = step \n",
    "        self.end  = end  \n",
    "        \n",
    "    def __iter__(self):\n",
    "        return self \n",
    "    \n",
    "    def __next__(self):\n",
    "        n = self.n \n",
    "        if n > self.end:\n",
    "            raise StopIteration()\n",
    "            \n",
    "        self.n += self.step \n",
    "        return n \n",
    "    \n",
    "    \n",
    "for x in Count(10, 2.5, 15):\n",
    "    x "
   ]
  },
  {
   "cell_type": "markdown",
   "metadata": {},
   "source": [
    "yield, return "
   ]
  },
  {
   "cell_type": "code",
   "execution_count": 33,
   "metadata": {},
   "outputs": [
    {
     "data": {
      "text/plain": [
       "'hey, Mr. Y'"
      ]
     },
     "execution_count": 33,
     "metadata": {},
     "output_type": "execute_result"
    },
    {
     "data": {
      "text/plain": [
       "StopIteration('returning from ... what')"
      ]
     },
     "execution_count": 33,
     "metadata": {},
     "output_type": "execute_result"
    }
   ],
   "source": [
    "def generator():\n",
    "    yield \"hey, Mr. Y\"\n",
    "    return 'returning from ... what'\n",
    "\n",
    "\n",
    "g = generator()\n",
    "\n",
    "try:\n",
    "    next(g)  # result returned by `yield`\n",
    "    next(g)  # the final was returned by `return` \n",
    "except StopIteration as err:\n",
    "    err "
   ]
  },
  {
   "cell_type": "markdown",
   "metadata": {},
   "source": [
    "comprehension"
   ]
  },
  {
   "cell_type": "code",
   "execution_count": 22,
   "metadata": {},
   "outputs": [
    {
     "data": {
      "text/plain": [
       "[0, 1, 8, 27, 64]"
      ]
     },
     "execution_count": 22,
     "metadata": {},
     "output_type": "execute_result"
    }
   ],
   "source": [
    "list(\n",
    "    x**3 for x in range(5)\n",
    ")"
   ]
  },
  {
   "cell_type": "markdown",
   "metadata": {},
   "source": [
    "order"
   ]
  },
  {
   "cell_type": "code",
   "execution_count": 53,
   "metadata": {},
   "outputs": [
    {
     "name": "stdout",
     "output_type": "stream",
     "text": [
      "Before 1\n"
     ]
    },
    {
     "data": {
      "text/plain": [
       "1"
      ]
     },
     "execution_count": 53,
     "metadata": {},
     "output_type": "execute_result"
    },
    {
     "name": "stdout",
     "output_type": "stream",
     "text": [
      "After  1\n",
      "Before 2\n"
     ]
    },
    {
     "data": {
      "text/plain": [
       "2"
      ]
     },
     "execution_count": 53,
     "metadata": {},
     "output_type": "execute_result"
    },
    {
     "name": "stdout",
     "output_type": "stream",
     "text": [
      "After  2\n",
      "Before 3\n"
     ]
    },
    {
     "data": {
      "text/plain": [
       "3"
      ]
     },
     "execution_count": 53,
     "metadata": {},
     "output_type": "execute_result"
    },
    {
     "name": "stdout",
     "output_type": "stream",
     "text": [
      "After  3\n"
     ]
    }
   ],
   "source": [
    "def gene():\n",
    "    \n",
    "    print('Before 1')\n",
    "    yield 1 \n",
    "    \n",
    "    print('After  1')\n",
    "    print('Before 2')\n",
    "    yield 2 \n",
    "    \n",
    "    print('After  2')\n",
    "    print('Before 3')\n",
    "    yield 3 \n",
    "    \n",
    "    print('After  3')\n",
    "    \n",
    "    '''\n",
    "        if `return` or None:\n",
    "            nothing returned \n",
    "        \n",
    "        if `yield` \n",
    "            yield what u've given\n",
    "    '''\n",
    "    return 'hela '\n",
    "\n",
    "\n",
    "g = gene()\n",
    "\n",
    "for i in g:  # u can use `next` instead \n",
    "    i "
   ]
  },
  {
   "cell_type": "markdown",
   "metadata": {},
   "source": [
    "pipelines"
   ]
  },
  {
   "cell_type": "code",
   "execution_count": 55,
   "metadata": {},
   "outputs": [
    {
     "name": "stdout",
     "output_type": "stream",
     "text": [
      "spam\n",
      "spam spam \n",
      "spam spam spam \n",
      "bacon\n",
      "bacon bacon \n",
      "bacon bacon bacon \n"
     ]
    }
   ],
   "source": [
    "!cat ./src/p5_gen_pipe.txt | grep spam \n",
    "\n",
    "!cat ./src/p5_gen_pipe.txt | grep spam | sed 's/spam/bacon/g'"
   ]
  },
  {
   "cell_type": "code",
   "execution_count": 60,
   "metadata": {},
   "outputs": [],
   "source": [
    "# recreating the pipe with generators :)\n",
    "\n",
    "def cat(filename):\n",
    "    for line in open(filename):\n",
    "        yield line.rstrip()\n",
    "        \n",
    "def grep(sequence, search):\n",
    "    for line in sequence:\n",
    "        if search in line:\n",
    "            yield line \n",
    "            \n",
    "def replace(sequence, _search, _replace):\n",
    "    for line in sequence:\n",
    "        yield line.replace(_search, _replace)"
   ]
  },
  {
   "cell_type": "code",
   "execution_count": 69,
   "metadata": {},
   "outputs": [
    {
     "name": "stdout",
     "output_type": "stream",
     "text": [
      "bacon\n",
      "bacon bacon\n",
      "bacon bacon bacon\n"
     ]
    }
   ],
   "source": [
    "seperated_steps = '''\n",
    "    lines       = cat('./src/p5_gen_pipe.txt')\n",
    "    spam_lines  = grep(lines, 'spam')\n",
    "    bacon_lines = replace(spam_lines, 'spam', 'bacon')\n",
    "'''\n",
    "\n",
    "# compressed in one line XD\n",
    "\n",
    "for line in replace(\n",
    "    grep(cat('./src/p5_gen_pipe.txt'), 'spam'), \n",
    "    'spam',\n",
    "    'bacon'\n",
    "):\n",
    "    print(line)"
   ]
  },
  {
   "cell_type": "markdown",
   "metadata": {},
   "source": [
    "tee - what does it do"
   ]
  },
  {
   "cell_type": "code",
   "execution_count": 97,
   "metadata": {},
   "outputs": [
    {
     "data": {
      "text/plain": [
       "(<itertools._tee at 0x10f250b48>,\n",
       " <itertools._tee at 0x10f262608>,\n",
       " <itertools._tee at 0x10f262408>)"
      ]
     },
     "execution_count": 97,
     "metadata": {},
     "output_type": "execute_result"
    },
    {
     "data": {
      "text/plain": [
       "['spam', 'eggs']"
      ]
     },
     "execution_count": 97,
     "metadata": {},
     "output_type": "execute_result"
    },
    {
     "data": {
      "text/plain": [
       "['spam', 'eggs']"
      ]
     },
     "execution_count": 97,
     "metadata": {},
     "output_type": "execute_result"
    },
    {
     "data": {
      "text/plain": [
       "['spam', 'eggs']"
      ]
     },
     "execution_count": 97,
     "metadata": {},
     "output_type": "execute_result"
    }
   ],
   "source": [
    "import itertools as itr \n",
    "\n",
    "def spam_and_eggs():\n",
    "    yield 'spam'\n",
    "    yield 'eggs'\n",
    "    \n",
    "\n",
    "a, b, c = itr.tee(spam_and_eggs(), 3)\n",
    "\n",
    "# the func is not that important \n",
    "#   the crucial one is the `n` (latter args)\n",
    "#   it's like repeated genrators? (I think)\n",
    "a, b, c \n",
    "\n",
    "[ _ for _ in a ]\n",
    "[ _ for _ in b ]\n",
    "[ _ for _ in c ]"
   ]
  },
  {
   "cell_type": "markdown",
   "metadata": {},
   "source": [
    "tee - actual (sort of) implementataion"
   ]
  },
  {
   "cell_type": "code",
   "execution_count": 98,
   "metadata": {},
   "outputs": [
    {
     "data": {
      "text/plain": [
       "['spam', 'eggs']"
      ]
     },
     "execution_count": 98,
     "metadata": {},
     "output_type": "execute_result"
    },
    {
     "data": {
      "text/plain": [
       "['spam', 'eggs']"
      ]
     },
     "execution_count": 98,
     "metadata": {},
     "output_type": "execute_result"
    },
    {
     "data": {
      "text/plain": [
       "['spam', 'eggs']"
      ]
     },
     "execution_count": 98,
     "metadata": {},
     "output_type": "execute_result"
    }
   ],
   "source": [
    "from collections import deque\n",
    "\n",
    "def _tee(iterable, n=2):\n",
    "    \n",
    "    itr = iter(iterable)\n",
    "    deq = [deque() for i in range(n)] \n",
    "    \n",
    "    def gen(mydeq):\n",
    "        \n",
    "        while True:\n",
    "            \n",
    "            if not mydeq:\n",
    "                \n",
    "                try:\n",
    "                    newval = next(itr)\n",
    "                except StopIteration:\n",
    "                    return \n",
    "                \n",
    "                for d in deq:\n",
    "                    d.append(newval)\n",
    "            \n",
    "            yield mydeq.popleft()\n",
    "            \n",
    "    return tuple(gen(d) for d in deq)\n",
    "\n",
    "\n",
    "a, b, c = _tee(spam_and_eggs(), 3)\n",
    "\n",
    "[i for i in a]\n",
    "[i for i in b]\n",
    "[i for i in c]"
   ]
  },
  {
   "cell_type": "markdown",
   "metadata": {},
   "source": [
    "powerset"
   ]
  },
  {
   "cell_type": "code",
   "execution_count": 120,
   "metadata": {},
   "outputs": [
    {
     "data": {
      "text/plain": [
       "('a',)"
      ]
     },
     "execution_count": 120,
     "metadata": {},
     "output_type": "execute_result"
    },
    {
     "data": {
      "text/plain": [
       "('b',)"
      ]
     },
     "execution_count": 120,
     "metadata": {},
     "output_type": "execute_result"
    },
    {
     "data": {
      "text/plain": [
       "('c',)"
      ]
     },
     "execution_count": 120,
     "metadata": {},
     "output_type": "execute_result"
    },
    {
     "data": {
      "text/plain": [
       "('a', 'b')"
      ]
     },
     "execution_count": 120,
     "metadata": {},
     "output_type": "execute_result"
    },
    {
     "data": {
      "text/plain": [
       "('a', 'c')"
      ]
     },
     "execution_count": 120,
     "metadata": {},
     "output_type": "execute_result"
    },
    {
     "data": {
      "text/plain": [
       "('b', 'c')"
      ]
     },
     "execution_count": 120,
     "metadata": {},
     "output_type": "execute_result"
    },
    {
     "data": {
      "text/plain": [
       "('a', 'b', 'c')"
      ]
     },
     "execution_count": 120,
     "metadata": {},
     "output_type": "execute_result"
    }
   ],
   "source": [
    "import itertools as itr \n",
    "\n",
    "def powerset(seq):\n",
    "    for size in range(1, len(seq) + 1):\n",
    "        for item in itr.combinations(seq, size): \n",
    "            yield item \n",
    "            \n",
    "\n",
    "for res in powerset('abc'):\n",
    "    res "
   ]
  },
  {
   "cell_type": "markdown",
   "metadata": {},
   "source": [
    "powerset - a simpler one"
   ]
  },
  {
   "cell_type": "code",
   "execution_count": 122,
   "metadata": {},
   "outputs": [
    {
     "data": {
      "text/plain": [
       "('a',)"
      ]
     },
     "execution_count": 122,
     "metadata": {},
     "output_type": "execute_result"
    },
    {
     "data": {
      "text/plain": [
       "('b',)"
      ]
     },
     "execution_count": 122,
     "metadata": {},
     "output_type": "execute_result"
    },
    {
     "data": {
      "text/plain": [
       "('c',)"
      ]
     },
     "execution_count": 122,
     "metadata": {},
     "output_type": "execute_result"
    },
    {
     "data": {
      "text/plain": [
       "('a', 'b')"
      ]
     },
     "execution_count": 122,
     "metadata": {},
     "output_type": "execute_result"
    },
    {
     "data": {
      "text/plain": [
       "('a', 'c')"
      ]
     },
     "execution_count": 122,
     "metadata": {},
     "output_type": "execute_result"
    },
    {
     "data": {
      "text/plain": [
       "('b', 'c')"
      ]
     },
     "execution_count": 122,
     "metadata": {},
     "output_type": "execute_result"
    },
    {
     "data": {
      "text/plain": [
       "('a', 'b', 'c')"
      ]
     },
     "execution_count": 122,
     "metadata": {},
     "output_type": "execute_result"
    }
   ],
   "source": [
    "def powerset(seq):\n",
    "    for size in range(1, len(seq) + 1):\n",
    "        yield from itr.combinations(seq, size)  # for-yield => 1 line\n",
    "\n",
    "\n",
    "for res in powerset('abc'):\n",
    "    res"
   ]
  },
  {
   "cell_type": "markdown",
   "metadata": {},
   "source": [
    "flatten a list *recursively*"
   ]
  },
  {
   "cell_type": "code",
   "execution_count": 129,
   "metadata": {},
   "outputs": [
    {
     "data": {
      "text/plain": [
       "[1, 3, 5, 7, 9]"
      ]
     },
     "execution_count": 129,
     "metadata": {},
     "output_type": "execute_result"
    }
   ],
   "source": [
    "def flatten(seq):\n",
    "    for item in seq:\n",
    "        try:\n",
    "            yield from flatten(item)\n",
    "        except TypeError:\n",
    "            yield item\n",
    "            \n",
    "            \n",
    "list(flatten(\n",
    "    [[], 1, [3, 5, 7], [9]]\n",
    "))"
   ]
  },
  {
   "cell_type": "markdown",
   "metadata": {},
   "source": [
    "context managers"
   ]
  },
  {
   "cell_type": "code",
   "execution_count": 170,
   "metadata": {},
   "outputs": [],
   "source": [
    "# stage - init \n",
    "\n",
    "from datetime import datetime\n",
    "\n",
    "from contextlib import (\n",
    "    contextmanager, redirect_stdout,\n",
    "    ExitStack\n",
    ")\n",
    "\n",
    "\n",
    "@contextmanager\n",
    "def timer(name):\n",
    "    \n",
    "    start = datetime.now()\n",
    "    yield \n",
    "    end   = datetime.now()\n",
    "    \n",
    "    print(f'{name} took {start-end}')"
   ]
  },
  {
   "cell_type": "code",
   "execution_count": 167,
   "metadata": {},
   "outputs": [
    {
     "name": "stdout",
     "output_type": "stream",
     "text": [
      "hmm... hello?\r\n",
      "and... hi?\r\n",
      "some_func took -1 day, 23:59:59.999986\r\n"
     ]
    }
   ],
   "source": [
    "# stage - exp - ver1\n",
    "\n",
    "@contextmanager\n",
    "def write_to_log(name):\n",
    "    with open(f'./src/p5_contx_{name}.txt', 'w') as fh:\n",
    "        with redirect_stdout(fh):\n",
    "            with timer(name):\n",
    "                yield \n",
    "                \n",
    "                \n",
    "# then use it \n",
    "\n",
    "@write_to_log('some_func')\n",
    "def some_func():\n",
    "    print('hmm... hello?')\n",
    "    print('and... hi?')\n",
    "    \n",
    "some_func()\n",
    " \n",
    "\n",
    "!cat src/p5_contx_some_func.txt"
   ]
  },
  {
   "cell_type": "markdown",
   "metadata": {},
   "source": [
    "context managers - ```ExitStack```"
   ]
  },
  {
   "cell_type": "code",
   "execution_count": 169,
   "metadata": {},
   "outputs": [
    {
     "name": "stdout",
     "output_type": "stream",
     "text": [
      "hey yo\r\n",
      "whats up\r\n",
      "another func took -1 day, 23:59:59.999979\r\n"
     ]
    }
   ],
   "source": [
    "# stage - exp - ver2\n",
    "\n",
    "@contextmanager\n",
    "def write_to_log(name):\n",
    "    \n",
    "    with ExitStack() as stack:\n",
    "        \n",
    "        fh = stack.enter_context(\n",
    "            open('./src/p5_contx_exstack.txt', 'w'))\n",
    "        \n",
    "        stack.enter_context(redirect_stdout(fh))\n",
    "        stack.enter_context(timer(name))\n",
    "        \n",
    "        yield \n",
    "        \n",
    "\n",
    "@write_to_log('another func')\n",
    "def what_the_func():\n",
    "    print('hey yo')\n",
    "    print('whats up')\n",
    "\n",
    "what_the_func()\n",
    "\n",
    "\n",
    "!cat src/p5_contx_exstack.txt"
   ]
  },
  {
   "cell_type": "code",
   "execution_count": 190,
   "metadata": {},
   "outputs": [
    {
     "data": {
      "text/plain": [
       "ValueError('I/O operation on closed file.')"
      ]
     },
     "execution_count": 190,
     "metadata": {},
     "output_type": "execute_result"
    }
   ],
   "source": [
    "# stage - exp - ver3 (maybe not)\n",
    "\n",
    "# shortten the filename in code \n",
    "spam_file = './src/p5_contx_spam.txt'\n",
    "eggs_file = './src/p5_contx_eggs.txt'\n",
    "\n",
    "\n",
    "with ExitStack() as stack:\n",
    "    spam_fh = stack.enter_context(open(spam_file, 'w'))\n",
    "    eggs_fh = stack.enter_context(open(eggs_file, 'w'))\n",
    "    \n",
    "    spam_bytes_written = spam_fh.write('whoo~ spam')\n",
    "    eggs_bytes_written = eggs_fh.write('whoo~ eggs')\n",
    "    \n",
    "    close_handlers = stack.pop_all().close\n",
    "   \n",
    "\n",
    "spam_bytes_written = spam_fh.write('yet another spam')\n",
    "eggs_bytes_written = eggs_fh.write('and another eggs')\n",
    "\n",
    "\n",
    "# then ...\n",
    "close_handlers()\n",
    "\n",
    "try:\n",
    "    spam_bytes_written = spam_fh.write('cant write now')\n",
    "except ValueError as err:\n",
    "    err "
   ]
  },
  {
   "cell_type": "markdown",
   "metadata": {},
   "source": [
    "### coroutines "
   ]
  },
  {
   "cell_type": "code",
   "execution_count": 201,
   "metadata": {},
   "outputs": [
    {
     "name": "stdout",
     "output_type": "stream",
     "text": [
      "Help on built-in function send:\n",
      "\n",
      "send(...) method of builtins.generator instance\n",
      "    send(arg) -> send 'arg' into generator,\n",
      "    return next yielded value or raise StopIteration.\n",
      "\n"
     ]
    }
   ],
   "source": [
    "def gene():\n",
    "    \n",
    "    val = yield 'spam' \n",
    "    print(f'received val: {val}')  # \"given\" to val, not val\n",
    "    \n",
    "    yield f'previous val: {val}'\n",
    "    \n",
    "\n",
    "g = gene()\n",
    "\n",
    "help(g.send)"
   ]
  }
 ],
 "metadata": {
  "kernelspec": {
   "display_name": "Python 3",
   "language": "python",
   "name": "python3"
  },
  "language_info": {
   "codemirror_mode": {
    "name": "ipython",
    "version": 3
   },
   "file_extension": ".py",
   "mimetype": "text/x-python",
   "name": "python",
   "nbconvert_exporter": "python",
   "pygments_lexer": "ipython3",
   "version": "3.6.5"
  }
 },
 "nbformat": 4,
 "nbformat_minor": 2
}
