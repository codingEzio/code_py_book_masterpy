{
 "cells": [
  {
   "cell_type": "markdown",
   "metadata": {},
   "source": [
    "covered topics \n",
    "- details about generator \n",
    "- generator *comprehension* / *func* / *class*\n",
    "- bundled generators \n",
    "- coroutines"
   ]
  },
  {
   "cell_type": "markdown",
   "metadata": {},
   "source": [
    "things I didn't do\n",
    "- pros and cons about *generator*\n",
    "- fully understand the examples of *coroutines* "
   ]
  },
  {
   "cell_type": "markdown",
   "metadata": {},
   "source": [
    "### generators"
   ]
  },
  {
   "cell_type": "markdown",
   "metadata": {},
   "source": [
    "count func"
   ]
  },
  {
   "cell_type": "code",
   "execution_count": 52,
   "metadata": {
    "scrolled": true
   },
   "outputs": [
    {
     "data": {
      "text/plain": [
       "10"
      ]
     },
     "execution_count": 52,
     "metadata": {},
     "output_type": "execute_result"
    },
    {
     "data": {
      "text/plain": [
       "12.5"
      ]
     },
     "execution_count": 52,
     "metadata": {},
     "output_type": "execute_result"
    },
    {
     "data": {
      "text/plain": [
       "15.0"
      ]
     },
     "execution_count": 52,
     "metadata": {},
     "output_type": "execute_result"
    }
   ],
   "source": [
    "def count(start=0, step=1, end=10):\n",
    "    n = start \n",
    "    while n <= end:\n",
    "        yield n \n",
    "        n += step \n",
    "\n",
    "        \n",
    "for x in count(10, 2.5, 15):\n",
    "    x "
   ]
  },
  {
   "cell_type": "markdown",
   "metadata": {},
   "source": [
    "count class"
   ]
  },
  {
   "cell_type": "code",
   "execution_count": 53,
   "metadata": {
    "scrolled": true
   },
   "outputs": [
    {
     "data": {
      "text/plain": [
       "10"
      ]
     },
     "execution_count": 53,
     "metadata": {},
     "output_type": "execute_result"
    },
    {
     "data": {
      "text/plain": [
       "12.5"
      ]
     },
     "execution_count": 53,
     "metadata": {},
     "output_type": "execute_result"
    },
    {
     "data": {
      "text/plain": [
       "15.0"
      ]
     },
     "execution_count": 53,
     "metadata": {},
     "output_type": "execute_result"
    }
   ],
   "source": [
    "class Count(object):\n",
    "    def __init__(self, start=0, step=1, end=10):\n",
    "        self.n    = start \n",
    "        self.step = step \n",
    "        self.end  = end  \n",
    "        \n",
    "    def __iter__(self):\n",
    "        return self \n",
    "    \n",
    "    def __next__(self):\n",
    "        n = self.n \n",
    "        if n > self.end:\n",
    "            raise StopIteration()\n",
    "            \n",
    "        self.n += self.step \n",
    "        return n \n",
    "    \n",
    "    \n",
    "for x in Count(10, 2.5, 15):\n",
    "    x "
   ]
  },
  {
   "cell_type": "markdown",
   "metadata": {},
   "source": [
    "yield, return "
   ]
  },
  {
   "cell_type": "code",
   "execution_count": 54,
   "metadata": {},
   "outputs": [
    {
     "data": {
      "text/plain": [
       "'hey, Mr. Y'"
      ]
     },
     "execution_count": 54,
     "metadata": {},
     "output_type": "execute_result"
    },
    {
     "data": {
      "text/plain": [
       "StopIteration('returning from ... what')"
      ]
     },
     "execution_count": 54,
     "metadata": {},
     "output_type": "execute_result"
    }
   ],
   "source": [
    "def generator():\n",
    "    yield \"hey, Mr. Y\"\n",
    "    return 'returning from ... what'\n",
    "\n",
    "\n",
    "g = generator()\n",
    "\n",
    "try:\n",
    "    next(g)  # result returned by `yield`\n",
    "    next(g)  # the final was returned by `return` \n",
    "except StopIteration as err:\n",
    "    err "
   ]
  },
  {
   "cell_type": "markdown",
   "metadata": {},
   "source": [
    "comprehension"
   ]
  },
  {
   "cell_type": "code",
   "execution_count": 55,
   "metadata": {},
   "outputs": [
    {
     "data": {
      "text/plain": [
       "[0, 1, 8, 27, 64]"
      ]
     },
     "execution_count": 55,
     "metadata": {},
     "output_type": "execute_result"
    }
   ],
   "source": [
    "list(\n",
    "    x**3 for x in range(5)\n",
    ")"
   ]
  },
  {
   "cell_type": "markdown",
   "metadata": {},
   "source": [
    "order"
   ]
  },
  {
   "cell_type": "code",
   "execution_count": 56,
   "metadata": {},
   "outputs": [
    {
     "name": "stdout",
     "output_type": "stream",
     "text": [
      "Before 1\n"
     ]
    },
    {
     "data": {
      "text/plain": [
       "1"
      ]
     },
     "execution_count": 56,
     "metadata": {},
     "output_type": "execute_result"
    },
    {
     "name": "stdout",
     "output_type": "stream",
     "text": [
      "After  1\n",
      "Before 2\n"
     ]
    },
    {
     "data": {
      "text/plain": [
       "2"
      ]
     },
     "execution_count": 56,
     "metadata": {},
     "output_type": "execute_result"
    },
    {
     "name": "stdout",
     "output_type": "stream",
     "text": [
      "After  2\n",
      "Before 3\n"
     ]
    },
    {
     "data": {
      "text/plain": [
       "3"
      ]
     },
     "execution_count": 56,
     "metadata": {},
     "output_type": "execute_result"
    },
    {
     "name": "stdout",
     "output_type": "stream",
     "text": [
      "After  3\n"
     ]
    }
   ],
   "source": [
    "def gene():\n",
    "    \n",
    "    print('Before 1')\n",
    "    yield 1 \n",
    "    \n",
    "    print('After  1')\n",
    "    print('Before 2')\n",
    "    yield 2 \n",
    "    \n",
    "    print('After  2')\n",
    "    print('Before 3')\n",
    "    yield 3 \n",
    "    \n",
    "    print('After  3')\n",
    "    \n",
    "    '''\n",
    "        if `return` or None:\n",
    "            nothing returned \n",
    "        \n",
    "        if `yield` \n",
    "            yield what u've given\n",
    "    '''\n",
    "    return 'hela '\n",
    "\n",
    "\n",
    "g = gene()\n",
    "\n",
    "for i in g:  # u can use `next` instead \n",
    "    i "
   ]
  },
  {
   "cell_type": "markdown",
   "metadata": {},
   "source": [
    "pipelines"
   ]
  },
  {
   "cell_type": "code",
   "execution_count": 57,
   "metadata": {},
   "outputs": [
    {
     "name": "stdout",
     "output_type": "stream",
     "text": [
      "spam\n",
      "spam spam \n",
      "spam spam spam \n",
      "bacon\n",
      "bacon bacon \n",
      "bacon bacon bacon \n"
     ]
    }
   ],
   "source": [
    "!cat ./src/p5_gen_pipe.txt | grep spam \n",
    "\n",
    "!cat ./src/p5_gen_pipe.txt | grep spam | sed 's/spam/bacon/g'"
   ]
  },
  {
   "cell_type": "code",
   "execution_count": 58,
   "metadata": {},
   "outputs": [],
   "source": [
    "# recreating the pipe with generators :)\n",
    "\n",
    "def cat(filename):\n",
    "    for line in open(filename):\n",
    "        yield line.rstrip()\n",
    "        \n",
    "def grep(sequence, search):\n",
    "    for line in sequence:\n",
    "        if search in line:\n",
    "            yield line \n",
    "            \n",
    "def replace(sequence, _search, _replace):\n",
    "    for line in sequence:\n",
    "        yield line.replace(_search, _replace)"
   ]
  },
  {
   "cell_type": "code",
   "execution_count": 59,
   "metadata": {},
   "outputs": [
    {
     "name": "stdout",
     "output_type": "stream",
     "text": [
      "bacon\n",
      "bacon bacon\n",
      "bacon bacon bacon\n"
     ]
    }
   ],
   "source": [
    "seperated_steps = '''\n",
    "    lines       = cat('./src/p5_gen_pipe.txt')\n",
    "    spam_lines  = grep(lines, 'spam')\n",
    "    bacon_lines = replace(spam_lines, 'spam', 'bacon')\n",
    "'''\n",
    "\n",
    "# compressed in one line XD\n",
    "\n",
    "for line in replace(\n",
    "    grep(cat('./src/p5_gen_pipe.txt'), 'spam'), \n",
    "    'spam',\n",
    "    'bacon'\n",
    "):\n",
    "    print(line)"
   ]
  },
  {
   "cell_type": "markdown",
   "metadata": {},
   "source": [
    "tee - what does it do"
   ]
  },
  {
   "cell_type": "code",
   "execution_count": 60,
   "metadata": {},
   "outputs": [
    {
     "data": {
      "text/plain": [
       "(<itertools._tee at 0x10f0477c8>,\n",
       " <itertools._tee at 0x10f0c97c8>,\n",
       " <itertools._tee at 0x10f0c9d08>)"
      ]
     },
     "execution_count": 60,
     "metadata": {},
     "output_type": "execute_result"
    },
    {
     "data": {
      "text/plain": [
       "['spam', 'eggs']"
      ]
     },
     "execution_count": 60,
     "metadata": {},
     "output_type": "execute_result"
    },
    {
     "data": {
      "text/plain": [
       "['spam', 'eggs']"
      ]
     },
     "execution_count": 60,
     "metadata": {},
     "output_type": "execute_result"
    },
    {
     "data": {
      "text/plain": [
       "['spam', 'eggs']"
      ]
     },
     "execution_count": 60,
     "metadata": {},
     "output_type": "execute_result"
    }
   ],
   "source": [
    "import itertools as itr \n",
    "\n",
    "def spam_and_eggs():\n",
    "    yield 'spam'\n",
    "    yield 'eggs'\n",
    "    \n",
    "\n",
    "a, b, c = itr.tee(spam_and_eggs(), 3)\n",
    "\n",
    "# the func is not that important \n",
    "#   the crucial one is the `n` (latter args)\n",
    "#   it's like repeated genrators? (I think)\n",
    "a, b, c \n",
    "\n",
    "[ _ for _ in a ]\n",
    "[ _ for _ in b ]\n",
    "[ _ for _ in c ]"
   ]
  },
  {
   "cell_type": "markdown",
   "metadata": {},
   "source": [
    "tee - actual (sort of) implementataion"
   ]
  },
  {
   "cell_type": "code",
   "execution_count": 61,
   "metadata": {},
   "outputs": [
    {
     "data": {
      "text/plain": [
       "['spam', 'eggs']"
      ]
     },
     "execution_count": 61,
     "metadata": {},
     "output_type": "execute_result"
    },
    {
     "data": {
      "text/plain": [
       "['spam', 'eggs']"
      ]
     },
     "execution_count": 61,
     "metadata": {},
     "output_type": "execute_result"
    },
    {
     "data": {
      "text/plain": [
       "['spam', 'eggs']"
      ]
     },
     "execution_count": 61,
     "metadata": {},
     "output_type": "execute_result"
    }
   ],
   "source": [
    "from collections import deque\n",
    "\n",
    "def _tee(iterable, n=2):\n",
    "    \n",
    "    itr = iter(iterable)\n",
    "    deq = [deque() for i in range(n)] \n",
    "    \n",
    "    def gen(mydeq):\n",
    "        \n",
    "        while True:\n",
    "            \n",
    "            if not mydeq:\n",
    "                \n",
    "                try:\n",
    "                    newval = next(itr)\n",
    "                except StopIteration:\n",
    "                    return \n",
    "                \n",
    "                for d in deq:\n",
    "                    d.append(newval)\n",
    "            \n",
    "            yield mydeq.popleft()\n",
    "            \n",
    "    return tuple(gen(d) for d in deq)\n",
    "\n",
    "\n",
    "a, b, c = _tee(spam_and_eggs(), 3)\n",
    "\n",
    "[i for i in a]\n",
    "[i for i in b]\n",
    "[i for i in c]"
   ]
  },
  {
   "cell_type": "markdown",
   "metadata": {},
   "source": [
    "powerset"
   ]
  },
  {
   "cell_type": "code",
   "execution_count": 62,
   "metadata": {},
   "outputs": [
    {
     "data": {
      "text/plain": [
       "('a',)"
      ]
     },
     "execution_count": 62,
     "metadata": {},
     "output_type": "execute_result"
    },
    {
     "data": {
      "text/plain": [
       "('b',)"
      ]
     },
     "execution_count": 62,
     "metadata": {},
     "output_type": "execute_result"
    },
    {
     "data": {
      "text/plain": [
       "('c',)"
      ]
     },
     "execution_count": 62,
     "metadata": {},
     "output_type": "execute_result"
    },
    {
     "data": {
      "text/plain": [
       "('a', 'b')"
      ]
     },
     "execution_count": 62,
     "metadata": {},
     "output_type": "execute_result"
    },
    {
     "data": {
      "text/plain": [
       "('a', 'c')"
      ]
     },
     "execution_count": 62,
     "metadata": {},
     "output_type": "execute_result"
    },
    {
     "data": {
      "text/plain": [
       "('b', 'c')"
      ]
     },
     "execution_count": 62,
     "metadata": {},
     "output_type": "execute_result"
    },
    {
     "data": {
      "text/plain": [
       "('a', 'b', 'c')"
      ]
     },
     "execution_count": 62,
     "metadata": {},
     "output_type": "execute_result"
    }
   ],
   "source": [
    "import itertools as itr \n",
    "\n",
    "def powerset(seq):\n",
    "    for size in range(1, len(seq) + 1):\n",
    "        for item in itr.combinations(seq, size): \n",
    "            yield item \n",
    "            \n",
    "\n",
    "for res in powerset('abc'):\n",
    "    res "
   ]
  },
  {
   "cell_type": "markdown",
   "metadata": {},
   "source": [
    "powerset - a simpler one"
   ]
  },
  {
   "cell_type": "code",
   "execution_count": 63,
   "metadata": {},
   "outputs": [
    {
     "data": {
      "text/plain": [
       "('a',)"
      ]
     },
     "execution_count": 63,
     "metadata": {},
     "output_type": "execute_result"
    },
    {
     "data": {
      "text/plain": [
       "('b',)"
      ]
     },
     "execution_count": 63,
     "metadata": {},
     "output_type": "execute_result"
    },
    {
     "data": {
      "text/plain": [
       "('c',)"
      ]
     },
     "execution_count": 63,
     "metadata": {},
     "output_type": "execute_result"
    },
    {
     "data": {
      "text/plain": [
       "('a', 'b')"
      ]
     },
     "execution_count": 63,
     "metadata": {},
     "output_type": "execute_result"
    },
    {
     "data": {
      "text/plain": [
       "('a', 'c')"
      ]
     },
     "execution_count": 63,
     "metadata": {},
     "output_type": "execute_result"
    },
    {
     "data": {
      "text/plain": [
       "('b', 'c')"
      ]
     },
     "execution_count": 63,
     "metadata": {},
     "output_type": "execute_result"
    },
    {
     "data": {
      "text/plain": [
       "('a', 'b', 'c')"
      ]
     },
     "execution_count": 63,
     "metadata": {},
     "output_type": "execute_result"
    }
   ],
   "source": [
    "def powerset(seq):\n",
    "    for size in range(1, len(seq) + 1):\n",
    "        yield from itr.combinations(seq, size)  # for-yield => 1 line\n",
    "\n",
    "\n",
    "for res in powerset('abc'):\n",
    "    res"
   ]
  },
  {
   "cell_type": "markdown",
   "metadata": {},
   "source": [
    "flatten a list *recursively*"
   ]
  },
  {
   "cell_type": "code",
   "execution_count": 64,
   "metadata": {},
   "outputs": [
    {
     "data": {
      "text/plain": [
       "[1, 3, 5, 7, 9]"
      ]
     },
     "execution_count": 64,
     "metadata": {},
     "output_type": "execute_result"
    }
   ],
   "source": [
    "def flatten(seq):\n",
    "    for item in seq:\n",
    "        try:\n",
    "            yield from flatten(item)\n",
    "        except TypeError:\n",
    "            yield item\n",
    "            \n",
    "            \n",
    "list(flatten(\n",
    "    [[], 1, [3, 5, 7], [9]]\n",
    "))"
   ]
  },
  {
   "cell_type": "markdown",
   "metadata": {},
   "source": [
    "context managers"
   ]
  },
  {
   "cell_type": "code",
   "execution_count": 65,
   "metadata": {},
   "outputs": [],
   "source": [
    "# stage - init \n",
    "\n",
    "from datetime import datetime\n",
    "\n",
    "from contextlib import (\n",
    "    contextmanager, redirect_stdout,\n",
    "    ExitStack\n",
    ")\n",
    "\n",
    "\n",
    "@contextmanager\n",
    "def timer(name):\n",
    "    \n",
    "    start = datetime.now()\n",
    "    yield \n",
    "    end   = datetime.now()\n",
    "    \n",
    "    print(f'{name} took {end-start}')"
   ]
  },
  {
   "cell_type": "code",
   "execution_count": 66,
   "metadata": {},
   "outputs": [
    {
     "name": "stdout",
     "output_type": "stream",
     "text": [
      "hmm... hello?\r\n",
      "and... hi?\r\n",
      "some_func took 0:00:00.000016\r\n"
     ]
    }
   ],
   "source": [
    "# stage - exp - ver1\n",
    "\n",
    "@contextmanager\n",
    "def write_to_log(name):\n",
    "    with open(f'./src/p5_contx_{name}.txt', 'w') as fh:\n",
    "        with redirect_stdout(fh):\n",
    "            with timer(name):\n",
    "                yield \n",
    "                \n",
    "                \n",
    "# then use it \n",
    "\n",
    "@write_to_log('some_func')\n",
    "def some_func():\n",
    "    print('hmm... hello?')\n",
    "    print('and... hi?')\n",
    "    \n",
    "some_func()\n",
    " \n",
    "\n",
    "!cat src/p5_contx_some_func.txt"
   ]
  },
  {
   "cell_type": "markdown",
   "metadata": {},
   "source": [
    "context managers - ```ExitStack```"
   ]
  },
  {
   "cell_type": "code",
   "execution_count": 67,
   "metadata": {},
   "outputs": [
    {
     "name": "stdout",
     "output_type": "stream",
     "text": [
      "hey yo\r\n",
      "whats up\r\n",
      "another func took 0:00:00.000025\r\n"
     ]
    }
   ],
   "source": [
    "# stage - exp - ver2\n",
    "\n",
    "@contextmanager\n",
    "def write_to_log(name):\n",
    "    \n",
    "    with ExitStack() as stack:\n",
    "        \n",
    "        fh = stack.enter_context(\n",
    "            open('./src/p5_contx_exstack.txt', 'w'))\n",
    "        \n",
    "        stack.enter_context(redirect_stdout(fh))\n",
    "        stack.enter_context(timer(name))\n",
    "        \n",
    "        yield \n",
    "        \n",
    "\n",
    "@write_to_log('another func')\n",
    "def what_the_func():\n",
    "    print('hey yo')\n",
    "    print('whats up')\n",
    "\n",
    "what_the_func()\n",
    "\n",
    "\n",
    "!cat src/p5_contx_exstack.txt"
   ]
  },
  {
   "cell_type": "code",
   "execution_count": 68,
   "metadata": {},
   "outputs": [
    {
     "data": {
      "text/plain": [
       "ValueError('I/O operation on closed file.')"
      ]
     },
     "execution_count": 68,
     "metadata": {},
     "output_type": "execute_result"
    }
   ],
   "source": [
    "# stage - exp - ver3 (maybe not)\n",
    "\n",
    "# shortten the filename in code \n",
    "spam_file = './src/p5_contx_spam.txt'\n",
    "eggs_file = './src/p5_contx_eggs.txt'\n",
    "\n",
    "\n",
    "with ExitStack() as stack:\n",
    "    spam_fh = stack.enter_context(open(spam_file, 'w'))\n",
    "    eggs_fh = stack.enter_context(open(eggs_file, 'w'))\n",
    "    \n",
    "    spam_bytes_written = spam_fh.write('whoo~ spam')\n",
    "    eggs_bytes_written = eggs_fh.write('whoo~ eggs')\n",
    "    \n",
    "    close_handlers = stack.pop_all().close\n",
    "   \n",
    "\n",
    "spam_bytes_written = spam_fh.write('yet another spam')\n",
    "eggs_bytes_written = eggs_fh.write('and another eggs')\n",
    "\n",
    "\n",
    "# then ...\n",
    "close_handlers()\n",
    "\n",
    "try:\n",
    "    spam_bytes_written = spam_fh.write('cant write now')\n",
    "except ValueError as err:\n",
    "    err "
   ]
  },
  {
   "cell_type": "markdown",
   "metadata": {},
   "source": [
    "### coroutines "
   ]
  },
  {
   "cell_type": "markdown",
   "metadata": {},
   "source": [
    "basic one"
   ]
  },
  {
   "cell_type": "code",
   "execution_count": 69,
   "metadata": {},
   "outputs": [
    {
     "data": {
      "text/plain": [
       "'spam'"
      ]
     },
     "execution_count": 69,
     "metadata": {},
     "output_type": "execute_result"
    },
    {
     "name": "stdout",
     "output_type": "stream",
     "text": [
      "received val: None\n"
     ]
    },
    {
     "data": {
      "text/plain": [
       "'previous val: None'"
      ]
     },
     "execution_count": 69,
     "metadata": {},
     "output_type": "execute_result"
    },
    {
     "data": {
      "text/plain": [
       "'spam'"
      ]
     },
     "execution_count": 69,
     "metadata": {},
     "output_type": "execute_result"
    },
    {
     "name": "stdout",
     "output_type": "stream",
     "text": [
      "received val: whooo\n"
     ]
    },
    {
     "data": {
      "text/plain": [
       "'previous val: whooo'"
      ]
     },
     "execution_count": 69,
     "metadata": {},
     "output_type": "execute_result"
    }
   ],
   "source": [
    "def generator():\n",
    "    \n",
    "    val = yield 'spam' \n",
    "    \n",
    "    print(f'received val: {val}')\n",
    "    yield f'previous val: {val}'\n",
    "    \n",
    "\n",
    "gn = generator()\n",
    "\n",
    "next(gn)  # yielded val \n",
    "next(gn)  # 其与 return 同等级, 也许后边的 val 需再次被赋值\n",
    "\n",
    "gs = generator()\n",
    "\n",
    "gs.send(None)     # the first one must be `None`\n",
    "gs.send('whooo')  # 原理类似 next (另将值\"送\"进 generator)"
   ]
  },
  {
   "cell_type": "markdown",
   "metadata": {},
   "source": [
    "a decorator we're gonna use for many times"
   ]
  },
  {
   "cell_type": "code",
   "execution_count": 70,
   "metadata": {},
   "outputs": [],
   "source": [
    "from functools import wraps \n",
    "\n",
    "def coroutine(func):\n",
    "    \n",
    "    @wraps(func)\n",
    "    def _coroutine(*args, **kwargs):\n",
    "        active_coroutine = func(*args, **kwargs)\n",
    "        next(active_coroutine)\n",
    "        \n",
    "        return active_coroutine\n",
    "    \n",
    "    return _coroutine"
   ]
  },
  {
   "cell_type": "markdown",
   "metadata": {},
   "source": [
    "example: about ```send```"
   ]
  },
  {
   "cell_type": "code",
   "execution_count": 71,
   "metadata": {},
   "outputs": [
    {
     "name": "stdout",
     "output_type": "stream",
     "text": [
      "Waiting ...\n",
      "\n",
      "Got wheee\n",
      "Waiting ...\n",
      "\n",
      "Got whooo\n",
      "Waiting ...\n",
      "\n"
     ]
    }
   ],
   "source": [
    "@coroutine\n",
    "def spam():\n",
    "    while True:\n",
    "        print('Waiting ...\\n')\n",
    "        \n",
    "        val = yield \n",
    "        print(f'Got {val}')\n",
    "\n",
    "\n",
    "gen = spam()  # Waiting \n",
    "\n",
    "gen.send('wheee')\n",
    "gen.send('whooo')"
   ]
  },
  {
   "cell_type": "markdown",
   "metadata": {},
   "source": [
    "example: ```close``` & ```throw```"
   ]
  },
  {
   "cell_type": "code",
   "execution_count": 72,
   "metadata": {},
   "outputs": [],
   "source": [
    "@coroutine\n",
    "def simple_coroutine():\n",
    "    \n",
    "    print('Setting up!\\n')\n",
    "    \n",
    "    try:\n",
    "        while True:\n",
    "            item = yield \n",
    "            print(f'Got: {item}\\n')\n",
    "    \n",
    "    except GeneratorExit:\n",
    "        print('Normal exit')\n",
    "        \n",
    "    except Exception as e:\n",
    "        print(f'Excptn exit: {e!r}')\n",
    "        raise\n",
    "        \n",
    "    finally:\n",
    "        print('Any exit.')"
   ]
  },
  {
   "cell_type": "code",
   "execution_count": 73,
   "metadata": {},
   "outputs": [
    {
     "name": "stdout",
     "output_type": "stream",
     "text": [
      "Setting up!\n",
      "\n",
      "Got: Spam\n",
      "\n",
      "Got: Wooo\n",
      "\n",
      "Normal exit\n",
      "Any exit.\n"
     ]
    }
   ],
   "source": [
    "asc = simple_coroutine()\n",
    "\n",
    "asc.send('Spam')\n",
    "asc.send('Wooo')\n",
    "\n",
    "asc.close()"
   ]
  },
  {
   "cell_type": "code",
   "execution_count": 79,
   "metadata": {},
   "outputs": [
    {
     "name": "stdout",
     "output_type": "stream",
     "text": [
      "Setting up!\n",
      "\n",
      "Got: Whoo\n",
      "\n",
      "Got: Yooo\n",
      "\n",
      "Excptn exit: RuntimeError('Oops!',)\n",
      "Any exit.\n"
     ]
    }
   ],
   "source": [
    "ast = simple_coroutine()\n",
    "\n",
    "try:\n",
    "    ast.send('Whoo')\n",
    "    ast.send('Yooo')\n",
    "    \n",
    "    ast.throw(RuntimeError, 'Oops!')\n",
    "except:\n",
    "    pass "
   ]
  },
  {
   "cell_type": "markdown",
   "metadata": {},
   "source": [
    "example: bidirectional pipelines"
   ]
  },
  {
   "cell_type": "code",
   "execution_count": 86,
   "metadata": {},
   "outputs": [
    {
     "name": "stdout",
     "output_type": "stream",
     "text": [
      "spam\r\n",
      "eggs \r\n",
      "spam spam \r\n",
      "eggs eggs \r\n",
      "spam spam spam \r\n",
      "eggs eggs eggs"
     ]
    }
   ],
   "source": [
    "# rewrite the pipeline we've written before :)\n",
    "\n",
    "!cat ./src/p5_gen_pipe.txt\n",
    "\n",
    "the_file = './src/p5_gen_pipe.txt'"
   ]
  },
  {
   "cell_type": "code",
   "execution_count": 87,
   "metadata": {},
   "outputs": [
    {
     "name": "stdout",
     "output_type": "stream",
     "text": [
      "bacon\n",
      "eggs\n",
      "bacon bacon\n",
      "eggs eggs\n",
      "bacon bacon bacon\n",
      "eggs eggs eggs\n"
     ]
    }
   ],
   "source": [
    "# rewrite part of it \n",
    "\n",
    "@coroutine\n",
    "def replace(_search, _replace):\n",
    "    while True:\n",
    "        item = yield \n",
    "        print(item.replace(_search, _replace))\n",
    "        \n",
    "        \n",
    "spam_replace = replace('spam', 'bacon')\n",
    "\n",
    "for line in open(the_file):\n",
    "    spam_replace.send(line.rstrip())  # the original stays!"
   ]
  },
  {
   "cell_type": "code",
   "execution_count": 92,
   "metadata": {},
   "outputs": [],
   "source": [
    "# fully rewrite!\n",
    "\n",
    "@coroutine\n",
    "def grep(target, pattern):\n",
    "    while True:\n",
    "        item = yield \n",
    "        if pattern in item:\n",
    "            target.send(item)\n",
    "            \n",
    "@coroutine\n",
    "def replace(target, _search, _replace):\n",
    "    while True:\n",
    "        target.send((yield).replace(_search, _replace))\n",
    "        \n",
    "@coroutine\n",
    "def _print(fmtstring):\n",
    "    while True:\n",
    "        print(fmtstring % (yield))\n",
    "        \n",
    "@coroutine\n",
    "def tee(*targets):\n",
    "    while True:\n",
    "        item = yield \n",
    "        for target in targets:\n",
    "            target.send(item)"
   ]
  },
  {
   "cell_type": "code",
   "execution_count": 96,
   "metadata": {},
   "outputs": [
    {
     "name": "stdout",
     "output_type": "stream",
     "text": [
      "bacon\n",
      "spam\n",
      "bacon bacon\n",
      "sausage\n",
      "bacon bacon bacon\n",
      "sausage spam\n"
     ]
    }
   ],
   "source": [
    "printer = _print('%s')\n",
    "\n",
    "replacer_spam = replace(printer, 'spam', 'bacon')\n",
    "replacer_eggs = replace(printer, 'spam spam', 'sausage')\n",
    "\n",
    "branch  = tee(replacer_spam, replacer_eggs)\n",
    "\n",
    "grepper = grep(branch, 'spam') \n",
    "\n",
    "\n",
    "for line in open(the_file):\n",
    "    grepper.send(line.rstrip())"
   ]
  },
  {
   "cell_type": "markdown",
   "metadata": {},
   "source": [
    "example: using the *state*"
   ]
  },
  {
   "cell_type": "code",
   "execution_count": 115,
   "metadata": {},
   "outputs": [
    {
     "data": {
      "text/plain": [
       "20.0"
      ]
     },
     "execution_count": 115,
     "metadata": {},
     "output_type": "execute_result"
    },
    {
     "data": {
      "text/plain": [
       "12.5"
      ]
     },
     "execution_count": 115,
     "metadata": {},
     "output_type": "execute_result"
    },
    {
     "data": {
      "text/plain": [
       "12.0"
      ]
     },
     "execution_count": 115,
     "metadata": {},
     "output_type": "execute_result"
    }
   ],
   "source": [
    "# simple version\n",
    "\n",
    "@coroutine\n",
    "def average():\n",
    "    \n",
    "    count = 1 \n",
    "    total = yield \n",
    "    \n",
    "    while True:\n",
    "        total += yield total / count \n",
    "        count += 1 \n",
    "        \n",
    "\n",
    "avg = average()\n",
    "\n",
    "avg.send(20)\n",
    "avg.send(5)\n",
    "avg.send(11)"
   ]
  },
  {
   "cell_type": "code",
   "execution_count": 127,
   "metadata": {},
   "outputs": [
    {
     "name": "stdout",
     "output_type": "stream",
     "text": [
      "20.0\n",
      "12.5\n",
      "12.0\n"
     ]
    }
   ],
   "source": [
    "# and another version\n",
    "\n",
    "@coroutine\n",
    "def _print(fmtstring):\n",
    "    while True:\n",
    "        print(fmtstring % (yield))\n",
    "\n",
    "@coroutine\n",
    "def average(target):\n",
    "    \n",
    "    count = 0\n",
    "    total = 0 \n",
    "    \n",
    "    while True:\n",
    "        count += 1 \n",
    "        total += yield \n",
    "        \n",
    "        target.send(total / count)\n",
    "        \n",
    "        \n",
    "printer = _print('%.1f')\n",
    "avg     = average(printer)\n",
    "\n",
    "avg.send(20)\n",
    "avg.send(5)\n",
    "avg.send(11) "
   ]
  },
  {
   "cell_type": "markdown",
   "metadata": {},
   "source": [
    "example: about ```groupby```"
   ]
  },
  {
   "cell_type": "code",
   "execution_count": 137,
   "metadata": {},
   "outputs": [],
   "source": [
    "# generator_coroutine version \n",
    "\n",
    "@coroutine\n",
    "def groupby():\n",
    "    \n",
    "    key, val      = yield \n",
    "    old_key, vals = key, []\n",
    "    \n",
    "    while True:\n",
    "        \n",
    "        old_val = val \n",
    "        \n",
    "        if key == old_key:\n",
    "            key, val = yield \n",
    "            \n",
    "        else:\n",
    "            key, val      = yield old_key, vals \n",
    "            old_key, vals = key, []\n",
    "            \n",
    "        vals.append(old_val)"
   ]
  },
  {
   "cell_type": "code",
   "execution_count": 149,
   "metadata": {},
   "outputs": [
    {
     "data": {
      "text/plain": [
       "('a', [1, 3, 5])"
      ]
     },
     "execution_count": 149,
     "metadata": {},
     "output_type": "execute_result"
    },
    {
     "data": {
      "text/plain": [
       "('b', [8, 10])"
      ]
     },
     "execution_count": 149,
     "metadata": {},
     "output_type": "execute_result"
    },
    {
     "data": {
      "text/plain": [
       "('a', [11, 13])"
      ]
     },
     "execution_count": 149,
     "metadata": {},
     "output_type": "execute_result"
    }
   ],
   "source": [
    "gb = groupby()\n",
    "\n",
    "gb.send(('a', 1))\n",
    "gb.send(('a', 3))\n",
    "gb.send(('a', 5))\n",
    "gb.send(('b', 8))      # detected! XD\n",
    "\n",
    "gb.send(('b', 10))\n",
    "gb.send(('a', 11))     # detected! XD\n",
    "\n",
    "gb.send(('a', 13))\n",
    "gb.send((None, None))  # detected! XD"
   ]
  },
  {
   "cell_type": "code",
   "execution_count": 150,
   "metadata": {},
   "outputs": [],
   "source": [
    "# pure_coroutine version\n",
    "\n",
    "@coroutine\n",
    "def _print(fmtstring):\n",
    "    while True:\n",
    "        print(fmtstring % (yield))\n",
    "\n",
    "@coroutine\n",
    "def groupby(target):\n",
    "    \n",
    "    old_key = None \n",
    "    \n",
    "    while True:\n",
    "        \n",
    "        key, val = yield \n",
    "        \n",
    "        if old_key != key:\n",
    "            \n",
    "            if old_key and vals:\n",
    "                target.send((old_key, vals))\n",
    "            \n",
    "            vals    = []\n",
    "            old_key = key \n",
    "        \n",
    "        vals.append(val)"
   ]
  },
  {
   "cell_type": "code",
   "execution_count": 161,
   "metadata": {},
   "outputs": [
    {
     "name": "stdout",
     "output_type": "stream",
     "text": [
      "[a] -- [1, 3, 5]\n",
      "[b] -- [8, 10, 20]\n"
     ]
    }
   ],
   "source": [
    "gp = groupby(_print(\n",
    "    '[%s] -- %s'  # group -- values \n",
    "))\n",
    "\n",
    "gp.send(('a', 1))\n",
    "gp.send(('a', 3))\n",
    "gp.send(('a', 5))\n",
    "gp.send(('b', 8))      # detected! XD\n",
    "\n",
    "gp.send(('b', 10))\n",
    "gp.send(('b', 20))\n",
    "gp.send((None, None))  # detected! XD"
   ]
  },
  {
   "cell_type": "markdown",
   "metadata": {},
   "source": [
    "<hr>\n",
    "\n",
    "***The End***."
   ]
  }
 ],
 "metadata": {
  "kernelspec": {
   "display_name": "Python 3",
   "language": "python",
   "name": "python3"
  },
  "language_info": {
   "codemirror_mode": {
    "name": "ipython",
    "version": 3
   },
   "file_extension": ".py",
   "mimetype": "text/x-python",
   "name": "python",
   "nbconvert_exporter": "python",
   "pygments_lexer": "ipython3",
   "version": "3.6.5"
  }
 },
 "nbformat": 4,
 "nbformat_minor": 2
}
