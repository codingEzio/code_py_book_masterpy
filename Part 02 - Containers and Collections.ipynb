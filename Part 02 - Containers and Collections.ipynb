{
 "cells": [
  {
   "cell_type": "markdown",
   "metadata": {},
   "source": [
    "What we're gonna talk about\n",
    "- list / tuple / dict / set \n",
    "- chainMap / counter / defaultDict / orderedDict\n",
    "- deque / heapq\n",
    "- namedTutple\n",
    "- enum"
   ]
  },
  {
   "cell_type": "markdown",
   "metadata": {},
   "source": [
    "<hr>"
   ]
  },
  {
   "cell_type": "markdown",
   "metadata": {},
   "source": [
    "*O(1)*, *O(n)*, *O(n<sup>2</sup>)*"
   ]
  },
  {
   "cell_type": "code",
   "execution_count": 1,
   "metadata": {},
   "outputs": [],
   "source": [
    "def o_one(items):\n",
    "    return 1\n",
    "\n",
    "def o_n(items):\n",
    "    total = 0 \n",
    "    for item in items:\n",
    "        total += item \n",
    "    return total \n",
    "\n",
    "def o_n_squared(items):\n",
    "    total = 0\n",
    "    for a in items:\n",
    "        for b in items:\n",
    "            total += a * b \n",
    "    return total "
   ]
  },
  {
   "cell_type": "code",
   "execution_count": 2,
   "metadata": {},
   "outputs": [
    {
     "data": {
      "text/plain": [
       "1"
      ]
     },
     "execution_count": 2,
     "metadata": {},
     "output_type": "execute_result"
    },
    {
     "data": {
      "text/plain": [
       "45"
      ]
     },
     "execution_count": 2,
     "metadata": {},
     "output_type": "execute_result"
    },
    {
     "data": {
      "text/plain": [
       "2025"
      ]
     },
     "execution_count": 2,
     "metadata": {},
     "output_type": "execute_result"
    }
   ],
   "source": [
    "n = 10\n",
    "items = range(n)\n",
    "\n",
    "o_one(items)         # 1 operation \n",
    "o_n(items)           # 10 operatons ( 'items' has 10 elements )\n",
    "o_n_squared(items)   # 100 operations ( two dimens here (10*10) )"
   ]
  },
  {
   "cell_type": "markdown",
   "metadata": {},
   "source": [
    "***list***: internal implementations of ```remove``` & ```insert```\n",
    "- Well, the [source code](https://svn.python.org/projects/python/trunk/Objects/listobject.c) was written in C."
   ]
  },
  {
   "cell_type": "code",
   "execution_count": 3,
   "metadata": {},
   "outputs": [],
   "source": [
    "def _remove(items, value):\n",
    "    \n",
    "    new_items = []\n",
    "    found     = False  # just a flag \n",
    "    \n",
    "    for item in items:\n",
    "        \n",
    "        # is-what-u-want  => skip(`continue`) => iterate(`for`) next val\n",
    "        # not-u-wanna-del => append to the new list (not-exec-the-if)\n",
    "        if not found  and  item == value:\n",
    "            \n",
    "            found = True   # these-two-lines are for the elem u wanna del\n",
    "            continue       # out-the-current-loop (NOT exec the append)\n",
    "            \n",
    "        new_items.append(item) \n",
    "        \n",
    "    if not found:\n",
    "        # the `found` stay at its original value ( not 'False' )\n",
    "        # that means it didn't find the elem u wanna del\n",
    "        raise ValueError('list.remove(x): x not in list')\n",
    "        \n",
    "    return new_items  # NOT delete in-place (this-func-returns-a-new-obj)"
   ]
  },
  {
   "cell_type": "code",
   "execution_count": 4,
   "metadata": {},
   "outputs": [
    {
     "data": {
      "text/plain": [
       "[1, 2]"
      ]
     },
     "execution_count": 4,
     "metadata": {},
     "output_type": "execute_result"
    }
   ],
   "source": [
    "a = [1, 2, 3]\n",
    "\n",
    "a = _remove(a, 3)\n",
    "a "
   ]
  },
  {
   "cell_type": "code",
   "execution_count": 5,
   "metadata": {},
   "outputs": [],
   "source": [
    "def _insert(items, idx, val):\n",
    "    \n",
    "    new_items = []\n",
    "    \n",
    "    for i, item in enumerate(items):\n",
    "        \n",
    "        # nothin' new, append the val to right index \n",
    "        if i == idx:\n",
    "            new_items.append(val)\n",
    "        \n",
    "        new_items.append(item)\n",
    "        \n",
    "    return new_items"
   ]
  },
  {
   "cell_type": "code",
   "execution_count": 6,
   "metadata": {},
   "outputs": [
    {
     "data": {
      "text/plain": [
       "[1, 2, 3, 4]"
      ]
     },
     "execution_count": 6,
     "metadata": {},
     "output_type": "execute_result"
    }
   ],
   "source": [
    "b = [2, 3, 4]\n",
    "\n",
    "b = _insert(b, 0, 1)\n",
    "b "
   ]
  },
  {
   "cell_type": "markdown",
   "metadata": {},
   "source": [
    "suppose we wanna remove a set of nums "
   ]
  },
  {
   "cell_type": "code",
   "execution_count": 7,
   "metadata": {},
   "outputs": [
    {
     "data": {
      "text/plain": [
       "[0, 2, 4, 6, 8]"
      ]
     },
     "execution_count": 7,
     "metadata": {},
     "output_type": "execute_result"
    },
    {
     "data": {
      "text/plain": [
       "<filter at 0x10ef279e8>"
      ]
     },
     "execution_count": 7,
     "metadata": {},
     "output_type": "execute_result"
    }
   ],
   "source": [
    "# remove the odd numbers \n",
    "\n",
    "nums = list(range(10))\n",
    "\n",
    "# method-one\n",
    "[ i for i in nums \n",
    "     if i not in [1, 3, 5, 7, 9] ]\n",
    "\n",
    "# method-two\n",
    "filter(\n",
    "    lambda item: item not in [1, 3, 5, 7, 9],\n",
    "    nums\n",
    ")"
   ]
  },
  {
   "cell_type": "markdown",
   "metadata": {},
   "source": [
    "let's talk about **dict**\n",
    "- O(1) for *get*, *set*, *del* (in most cases)\n",
    "- items were sorted by hash value (well, it looks like random to us)\n",
    "- hash collisions *may* occur, also influence the *O(N)*"
   ]
  },
  {
   "cell_type": "code",
   "execution_count": 10,
   "metadata": {},
   "outputs": [
    {
     "data": {
      "text/plain": [
       "2"
      ]
     },
     "execution_count": 10,
     "metadata": {},
     "output_type": "execute_result"
    },
    {
     "data": {
      "text/plain": [
       "1"
      ]
     },
     "execution_count": 10,
     "metadata": {},
     "output_type": "execute_result"
    },
    {
     "data": {
      "text/plain": [
       "0"
      ]
     },
     "execution_count": 10,
     "metadata": {},
     "output_type": "execute_result"
    }
   ],
   "source": [
    "def most_signif(val):\n",
    "    ''' a dead simple hash function for our own use '''\n",
    "    \n",
    "    while val >= 10:\n",
    "        val //= 10   \n",
    "    \n",
    "    return val       # 0~9\n",
    "\n",
    "\n",
    "most_signif(210)\n",
    "most_signif(10)\n",
    "most_signif(0)\n",
    "\n",
    "# add k,v  |  test if it exists or not \n",
    "\n",
    "def add(collection, key, val):\n",
    "    \n",
    "    index = most_signif(key)\n",
    "    \n",
    "    collection[index].append((key, val))\n",
    "    \n",
    "    \n",
    "def contains(collection, key):\n",
    "    \n",
    "    index = most_signif(key)\n",
    "    \n",
    "    for k,v in collection[index]:\n",
    "        if k == key:\n",
    "            return True \n",
    "        \n",
    "    return False "
   ]
  },
  {
   "cell_type": "code",
   "execution_count": 11,
   "metadata": {},
   "outputs": [
    {
     "data": {
      "text/plain": [
       "True"
      ]
     },
     "execution_count": 11,
     "metadata": {},
     "output_type": "execute_result"
    }
   ],
   "source": [
    "collection = [\n",
    "    [], [], [], [], [],\n",
    "    [], [], [], [], [],\n",
    "]\n",
    "\n",
    "add(collection, 123, 'a')\n",
    "add(collection, 456, 'b')\n",
    "add(collection, 789, 'c')\n",
    "add(collection, 101, 'c')\n",
    "\n",
    "contains(collection, 101)"
   ]
  },
  {
   "cell_type": "markdown",
   "metadata": {},
   "source": [
    "let's talk about **set**\n"
   ]
  },
  {
   "cell_type": "code",
   "execution_count": 12,
   "metadata": {},
   "outputs": [
    {
     "data": {
      "text/plain": [
       "{'a', 'e', 'g', 'm', 'p', 's'}"
      ]
     },
     "execution_count": 12,
     "metadata": {},
     "output_type": "execute_result"
    },
    {
     "data": {
      "text/plain": [
       "{'s'}"
      ]
     },
     "execution_count": 12,
     "metadata": {},
     "output_type": "execute_result"
    },
    {
     "data": {
      "text/plain": [
       "True"
      ]
     },
     "execution_count": 12,
     "metadata": {},
     "output_type": "execute_result"
    }
   ],
   "source": [
    "# basic rules (again)\n",
    "\n",
    "spam = set('spam')\n",
    "eggs = set('eggs')\n",
    "\n",
    "spam | eggs  # 'spameg'\n",
    "spam & eggs  # 's'\n",
    "\n",
    "# both/either have (but not in both)\n",
    "spam ^ eggs == (spam | eggs) - (spam & eggs)"
   ]
  },
  {
   "cell_type": "markdown",
   "metadata": {},
   "source": [
    "a little about **ChainMap**"
   ]
  },
  {
   "cell_type": "code",
   "execution_count": 13,
   "metadata": {},
   "outputs": [
    {
     "data": {
      "text/plain": [
       "ChainMap({'name': 'Alex', 'age': 20}, {'prof': 'student', 'major': 'SE'})"
      ]
     },
     "execution_count": 13,
     "metadata": {},
     "output_type": "execute_result"
    },
    {
     "data": {
      "text/plain": [
       "'SE'"
      ]
     },
     "execution_count": 13,
     "metadata": {},
     "output_type": "execute_result"
    }
   ],
   "source": [
    "from collections import ChainMap \n",
    "\n",
    "a = {'name': 'Alex', 'age': 20}\n",
    "b = {'prof': 'student', 'major': 'SE'}\n",
    "\n",
    "profile = ChainMap(a, b)\n",
    "\n",
    "profile\n",
    "profile['major']"
   ]
  },
  {
   "cell_type": "markdown",
   "metadata": {},
   "source": [
    "a little about **Counter**"
   ]
  },
  {
   "cell_type": "code",
   "execution_count": 14,
   "metadata": {},
   "outputs": [
    {
     "name": "stdout",
     "output_type": "stream",
     "text": [
      "Count for s: 1\n",
      "Count for g: 2\n",
      "Count for e: 1\n"
     ]
    }
   ],
   "source": [
    "from collections import Counter\n",
    "\n",
    "cnt = Counter('eggs')\n",
    "\n",
    "for k in set('eggs'):\n",
    "    print(f'Count for {k}: {cnt[k]}')"
   ]
  },
  {
   "cell_type": "code",
   "execution_count": 15,
   "metadata": {},
   "outputs": [
    {
     "name": "stdout",
     "output_type": "stream",
     "text": [
      "8.0: 10625\n",
      "7.0: 9375\n",
      "9.0: 9375\n"
     ]
    }
   ],
   "source": [
    "from math import sqrt \n",
    "from collections import Counter \n",
    "\n",
    "cnt = Counter()\n",
    "\n",
    "for i in range(0, 60000):\n",
    "    cnt[sqrt(i) // 25] += 1\n",
    "    \n",
    "for key, count in cnt.most_common(3):\n",
    "    print(f'{key}: {count}')"
   ]
  },
  {
   "cell_type": "markdown",
   "metadata": {},
   "source": [
    "a little about **deque**\n",
    "- full: **D**ouble **E**nded **Que**ue\n",
    "- It was *fully* implemented in *C*."
   ]
  },
  {
   "cell_type": "code",
   "execution_count": 16,
   "metadata": {},
   "outputs": [
    {
     "data": {
      "text/plain": [
       "1"
      ]
     },
     "execution_count": 16,
     "metadata": {},
     "output_type": "execute_result"
    },
    {
     "data": {
      "text/plain": [
       "2"
      ]
     },
     "execution_count": 16,
     "metadata": {},
     "output_type": "execute_result"
    },
    {
     "data": {
      "text/plain": [
       "2"
      ]
     },
     "execution_count": 16,
     "metadata": {},
     "output_type": "execute_result"
    },
    {
     "data": {
      "text/plain": [
       "1"
      ]
     },
     "execution_count": 16,
     "metadata": {},
     "output_type": "execute_result"
    }
   ],
   "source": [
    "from collections import deque \n",
    "\n",
    "q = deque()\n",
    "s = deque()\n",
    "\n",
    "# use as queue (FIFO)\n",
    "\n",
    "q.append(1)  # FI -- First In\n",
    "q.append(2)\n",
    "  \n",
    "q.popleft()  # FO -- First Out\n",
    "q.popleft()\n",
    "\n",
    "\n",
    "# use as stack (LIFO) \n",
    "\n",
    "s.append(1)   \n",
    "s.append(2)  # LI -- Last In\n",
    "\n",
    "s.pop()      # FO -- First Out\n",
    "s.pop()"
   ]
  },
  {
   "cell_type": "code",
   "execution_count": 17,
   "metadata": {},
   "outputs": [
    {
     "data": {
      "text/plain": [
       "deque([0])"
      ]
     },
     "execution_count": 17,
     "metadata": {},
     "output_type": "execute_result"
    },
    {
     "data": {
      "text/plain": [
       "deque([0, 1])"
      ]
     },
     "execution_count": 17,
     "metadata": {},
     "output_type": "execute_result"
    },
    {
     "data": {
      "text/plain": [
       "deque([1, 2])"
      ]
     },
     "execution_count": 17,
     "metadata": {},
     "output_type": "execute_result"
    },
    {
     "data": {
      "text/plain": [
       "deque([2, 3])"
      ]
     },
     "execution_count": 17,
     "metadata": {},
     "output_type": "execute_result"
    },
    {
     "data": {
      "text/plain": [
       "deque([3, 4])"
      ]
     },
     "execution_count": 17,
     "metadata": {},
     "output_type": "execute_result"
    }
   ],
   "source": [
    "# and another example \n",
    "\n",
    "circular = deque(maxlen=2)\n",
    "\n",
    "for i in range(5):\n",
    "    circular.append(i)\n",
    "    circular"
   ]
  },
  {
   "cell_type": "markdown",
   "metadata": {},
   "source": [
    "let's talk about **defaultdict**"
   ]
  },
  {
   "cell_type": "code",
   "execution_count": 18,
   "metadata": {},
   "outputs": [],
   "source": [
    "from collections import defaultdict \n",
    "from pprint import pprint\n",
    "\n",
    "nodes = [\n",
    "    ('a', 'b'), \n",
    "    ('a', 'c'),   \n",
    "    ('b', 'a'),   \n",
    "    ('b', 'd'),  \n",
    "    ('c', 'a'),   \n",
    "    ('d', 'a'),   \n",
    "    ('d', 'b'),    \n",
    "    ('d', 'c'),\n",
    "]"
   ]
  },
  {
   "cell_type": "code",
   "execution_count": 19,
   "metadata": {},
   "outputs": [
    {
     "name": "stdout",
     "output_type": "stream",
     "text": [
      "defaultdict(<class 'list'>,\n",
      "            {'a': ['b', 'c'],\n",
      "             'b': ['a', 'd'],\n",
      "             'c': ['a'],\n",
      "             'd': ['a', 'b', 'c']})\n"
     ]
    }
   ],
   "source": [
    "graph = defaultdict(list)\n",
    "\n",
    "for from_, to in nodes:\n",
    "    graph[from_].append(to)\n",
    "    \n",
    "\n",
    "pprint(graph)"
   ]
  },
  {
   "cell_type": "code",
   "execution_count": 20,
   "metadata": {},
   "outputs": [
    {
     "data": {
      "text/plain": [
       "defaultdict(float, {'price': 10.0})"
      ]
     },
     "execution_count": 20,
     "metadata": {},
     "output_type": "execute_result"
    }
   ],
   "source": [
    "counter = defaultdict(float)\n",
    "counter['price'] += 10\n",
    "\n",
    "counter"
   ]
  },
  {
   "cell_type": "markdown",
   "metadata": {},
   "source": [
    "a little about **namedtuple**"
   ]
  },
  {
   "cell_type": "code",
   "execution_count": 21,
   "metadata": {},
   "outputs": [
    {
     "data": {
      "text/plain": [
       "(1, 2, 3)"
      ]
     },
     "execution_count": 21,
     "metadata": {},
     "output_type": "execute_result"
    },
    {
     "data": {
      "text/plain": [
       "(1, 2)"
      ]
     },
     "execution_count": 21,
     "metadata": {},
     "output_type": "execute_result"
    }
   ],
   "source": [
    "from collections import namedtuple \n",
    "\n",
    "Point = namedtuple('Point', ['x', 'y', 'z'])\n",
    "\n",
    "point_a = Point(1, 2, 3)\n",
    "\n",
    "# unpack\n",
    "a, b, c = point_a\n",
    "a, b, c\n",
    "\n",
    "# attr \n",
    "point_a.x, point_a.y"
   ]
  },
  {
   "cell_type": "markdown",
   "metadata": {},
   "source": [
    "a little about **enum**\n",
    "- To have constants while still ***avoiding magic numbers***."
   ]
  },
  {
   "cell_type": "code",
   "execution_count": 22,
   "metadata": {},
   "outputs": [
    {
     "data": {
      "text/plain": [
       "<Color.red: 3>"
      ]
     },
     "execution_count": 22,
     "metadata": {},
     "output_type": "execute_result"
    },
    {
     "data": {
      "text/plain": [
       "'red'"
      ]
     },
     "execution_count": 22,
     "metadata": {},
     "output_type": "execute_result"
    },
    {
     "data": {
      "text/plain": [
       "3"
      ]
     },
     "execution_count": 22,
     "metadata": {},
     "output_type": "execute_result"
    },
    {
     "data": {
      "text/plain": [
       "True"
      ]
     },
     "execution_count": 22,
     "metadata": {},
     "output_type": "execute_result"
    },
    {
     "data": {
      "text/plain": [
       "True"
      ]
     },
     "execution_count": 22,
     "metadata": {},
     "output_type": "execute_result"
    },
    {
     "data": {
      "text/plain": [
       "True"
      ]
     },
     "execution_count": 22,
     "metadata": {},
     "output_type": "execute_result"
    },
    {
     "data": {
      "text/plain": [
       "[<Color.red: 3>, <Color.gray: 2>, <Color.pink: 1>]"
      ]
     },
     "execution_count": 22,
     "metadata": {},
     "output_type": "execute_result"
    }
   ],
   "source": [
    "import enum\n",
    "\n",
    "class Color(enum.Enum):\n",
    "    red  = 3 \n",
    "    gray = 2 \n",
    "    pink = 1 \n",
    "    \n",
    "\n",
    "Color.red\n",
    "Color.red.name \n",
    "Color.red.value\n",
    "\n",
    "isinstance(Color.pink, Color)\n",
    "\n",
    "Color.pink is Color['pink']\n",
    "Color.pink is Color(1)\n",
    "\n",
    "[i for i in Color]"
   ]
  },
  {
   "cell_type": "markdown",
   "metadata": {},
   "source": [
    "let's talk about **heapq**"
   ]
  },
  {
   "cell_type": "code",
   "execution_count": 26,
   "metadata": {},
   "outputs": [
    {
     "data": {
      "text/plain": [
       "[1, 2, 3, 7, 3, 4, 5]"
      ]
     },
     "execution_count": 26,
     "metadata": {},
     "output_type": "execute_result"
    },
    {
     "name": "stdout",
     "output_type": "stream",
     "text": [
      "\n"
     ]
    },
    {
     "data": {
      "text/plain": [
       "(1, [2, 3, 3, 7, 5, 4])"
      ]
     },
     "execution_count": 26,
     "metadata": {},
     "output_type": "execute_result"
    },
    {
     "data": {
      "text/plain": [
       "(2, [3, 3, 4, 7, 5])"
      ]
     },
     "execution_count": 26,
     "metadata": {},
     "output_type": "execute_result"
    },
    {
     "data": {
      "text/plain": [
       "(3, [3, 5, 4, 7])"
      ]
     },
     "execution_count": 26,
     "metadata": {},
     "output_type": "execute_result"
    },
    {
     "data": {
      "text/plain": [
       "(3, [4, 5, 7])"
      ]
     },
     "execution_count": 26,
     "metadata": {},
     "output_type": "execute_result"
    },
    {
     "data": {
      "text/plain": [
       "(4, [5, 7])"
      ]
     },
     "execution_count": 26,
     "metadata": {},
     "output_type": "execute_result"
    },
    {
     "data": {
      "text/plain": [
       "(5, [7])"
      ]
     },
     "execution_count": 26,
     "metadata": {},
     "output_type": "execute_result"
    },
    {
     "data": {
      "text/plain": [
       "(7, [])"
      ]
     },
     "execution_count": 26,
     "metadata": {},
     "output_type": "execute_result"
    }
   ],
   "source": [
    "import heapq as hpq\n",
    "\n",
    "_list = [1, 3, 5, 7, 2, 4, 3]\n",
    "\n",
    "hpq.heapify(_list); _list; print()\n",
    "\n",
    "while _list:\n",
    "    hpq.heappop(_list), _list"
   ]
  },
  {
   "cell_type": "markdown",
   "metadata": {},
   "source": [
    "hmm, let's talk about **bisect**!\n",
    "- TODO: add details (pros and cons)"
   ]
  },
  {
   "cell_type": "code",
   "execution_count": 36,
   "metadata": {},
   "outputs": [
    {
     "data": {
      "text/plain": [
       "[1, 2, 3, 5]"
      ]
     },
     "execution_count": 36,
     "metadata": {},
     "output_type": "execute_result"
    },
    {
     "name": "stdout",
     "output_type": "stream",
     "text": [
      "\n"
     ]
    },
    {
     "data": {
      "text/plain": [
       "[4, 5]"
      ]
     },
     "execution_count": 36,
     "metadata": {},
     "output_type": "execute_result"
    },
    {
     "data": {
      "text/plain": [
       "[1, 3, 4, 5]"
      ]
     },
     "execution_count": 36,
     "metadata": {},
     "output_type": "execute_result"
    }
   ],
   "source": [
    "# ---- normal ----\n",
    "\n",
    "normal_list = []\n",
    "normal_list.append(5)  # O(1)\n",
    "normal_list.append(3)  # O(1)\n",
    "normal_list.append(2)  # O(1)\n",
    "normal_list.append(1)  # O(1)\n",
    "\n",
    "normal_list.sort()     # O(4 * log(4)) = O(8)\n",
    "normal_list; print()\n",
    "\n",
    "# ----- insect ---- \n",
    "\n",
    "import bisect\n",
    "\n",
    "sorted_list = []\n",
    "\n",
    "bisect.insort(sorted_list, 5)  # O(1)\n",
    "bisect.insort(sorted_list, 4)  # O(2)  -- always sorted (wow) \n",
    "\n",
    "sorted_list          \n",
    "\n",
    "bisect.insort(sorted_list, 3)  # O(3)\n",
    "bisect.insort(sorted_list, 1)  # O(4)  -- that's all!  (for sorting purpose)\n",
    " \n",
    "sorted_list  "
   ]
  }
 ],
 "metadata": {
  "kernelspec": {
   "display_name": "Python 3",
   "language": "python",
   "name": "python3"
  },
  "language_info": {
   "codemirror_mode": {
    "name": "ipython",
    "version": 3
   },
   "file_extension": ".py",
   "mimetype": "text/x-python",
   "name": "python",
   "nbconvert_exporter": "python",
   "pygments_lexer": "ipython3",
   "version": "3.6.5"
  }
 },
 "nbformat": 4,
 "nbformat_minor": 2
}
