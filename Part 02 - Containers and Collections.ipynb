{
 "cells": [
  {
   "cell_type": "markdown",
   "metadata": {},
   "source": [
    "- Type\n",
    "    - list / tuple / dict / set \n",
    "    - chainMap / counter / defaultDict / orderedDict\n",
    "    - deque / heapq\n",
    "    - namedTutple\n",
    "    - enum"
   ]
  },
  {
   "cell_type": "markdown",
   "metadata": {},
   "source": [
    "- *O(N)*\n",
    "    - Take N step to execute "
   ]
  },
  {
   "cell_type": "markdown",
   "metadata": {},
   "source": [
    "<hr>"
   ]
  },
  {
   "cell_type": "markdown",
   "metadata": {},
   "source": [
    "Test *O(N)* between ```list``` and ```dict```"
   ]
  },
  {
   "cell_type": "code",
   "execution_count": 15,
   "metadata": {},
   "outputs": [
    {
     "data": {
      "text/plain": [
       "True"
      ]
     },
     "execution_count": 15,
     "metadata": {},
     "output_type": "execute_result"
    },
    {
     "data": {
      "text/plain": [
       "True"
      ]
     },
     "execution_count": 15,
     "metadata": {},
     "output_type": "execute_result"
    },
    {
     "data": {
      "text/plain": [
       "True"
      ]
     },
     "execution_count": 15,
     "metadata": {},
     "output_type": "execute_result"
    },
    {
     "data": {
      "text/plain": [
       "True"
      ]
     },
     "execution_count": 15,
     "metadata": {},
     "output_type": "execute_result"
    }
   ],
   "source": [
    "n = 1000 \n",
    "\n",
    "a_list = list(range(n))\n",
    "a_dict = dict.fromkeys(range(n))\n",
    "\n",
    "for i in range(2):\n",
    "    i in a_list  # 'list' takes N (2 here) steps \n",
    "    i in a_dict  # 'dict' takes N (1 always) step "
   ]
  },
  {
   "cell_type": "markdown",
   "metadata": {},
   "source": [
    "*O(1)* | *O(N)* | *O(N\\**2)*"
   ]
  },
  {
   "cell_type": "code",
   "execution_count": 16,
   "metadata": {},
   "outputs": [],
   "source": [
    "def o_one(items):\n",
    "    return 1\n",
    "\n",
    "def o_n(items):\n",
    "    total = 0 \n",
    "    for item in items:\n",
    "        total += item \n",
    "    return total \n",
    "\n",
    "def o_n_squared(items):\n",
    "    total = 0\n",
    "    for a in items:\n",
    "        for b in items:\n",
    "            total += a * b \n",
    "    return total "
   ]
  },
  {
   "cell_type": "code",
   "execution_count": 17,
   "metadata": {},
   "outputs": [
    {
     "data": {
      "text/plain": [
       "1"
      ]
     },
     "execution_count": 17,
     "metadata": {},
     "output_type": "execute_result"
    },
    {
     "data": {
      "text/plain": [
       "45"
      ]
     },
     "execution_count": 17,
     "metadata": {},
     "output_type": "execute_result"
    },
    {
     "data": {
      "text/plain": [
       "2025"
      ]
     },
     "execution_count": 17,
     "metadata": {},
     "output_type": "execute_result"
    }
   ],
   "source": [
    "n = 10\n",
    "items = range(n)\n",
    "\n",
    "o_one(items)         # 1 operation \n",
    "o_n(items)           # 10 operatons ( 'items' has 10 elements )\n",
    "o_n_squared(items)   # 100 operations ( two dimensions here (10*10) )"
   ]
  },
  {
   "cell_type": "code",
   "execution_count": null,
   "metadata": {},
   "outputs": [],
   "source": []
  }
 ],
 "metadata": {
  "kernelspec": {
   "display_name": "Python 3",
   "language": "python",
   "name": "python3"
  },
  "language_info": {
   "codemirror_mode": {
    "name": "ipython",
    "version": 3
   },
   "file_extension": ".py",
   "mimetype": "text/x-python",
   "name": "python",
   "nbconvert_exporter": "python",
   "pygments_lexer": "ipython3",
   "version": "3.6.5"
  }
 },
 "nbformat": 4,
 "nbformat_minor": 2
}
