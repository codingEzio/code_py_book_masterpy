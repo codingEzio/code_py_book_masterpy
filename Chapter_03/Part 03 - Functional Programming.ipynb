{
 "cells": [
  {
   "cell_type": "markdown",
   "metadata": {},
   "source": [
    "covered topics \n",
    "- theory\n",
    "- ```list```, ```dict```, ```set``` comprehensions\n",
    "- ```lambda```\n",
    "- module *functools*\n",
    "- module *itertools*"
   ]
  },
  {
   "cell_type": "markdown",
   "metadata": {},
   "source": [
    "tips (*after typing all of these*)\n",
    "- ```lambda``` *should* not be long than one line (readability)\n",
    "- brevity | readable, well, choose your own."
   ]
  },
  {
   "cell_type": "markdown",
   "metadata": {},
   "source": [
    "#### *list* comprehension"
   ]
  },
  {
   "cell_type": "code",
   "execution_count": 123,
   "metadata": {},
   "outputs": [
    {
     "data": {
      "text/plain": [
       "[0.1973511248248484,\n",
       " 0.44985876478324216,\n",
       " 0.9382841223142872,\n",
       " 0.8841159035125963]"
      ]
     },
     "execution_count": 123,
     "metadata": {},
     "output_type": "execute_result"
    },
    {
     "data": {
      "text/plain": [
       "[0.7133759418581492, 0.9076220091973534]"
      ]
     },
     "execution_count": 123,
     "metadata": {},
     "output_type": "execute_result"
    },
    {
     "data": {
      "text/plain": [
       "[0.7802165584120034,\n",
       " 0.8737309338731933,\n",
       " 0.5105781284941995,\n",
       " 0.5287767355625747]"
      ]
     },
     "execution_count": 123,
     "metadata": {},
     "output_type": "execute_result"
    }
   ],
   "source": [
    "from random import random \n",
    "\n",
    "# do NOT use this\n",
    "[ random() for _ in range(5) if _ >= 0.5]  # u won't get the right result \n",
    "\n",
    "# use this one \n",
    "rd      = [ random() for i in range(5)]   # stored the values \n",
    "rdlarge = [ x for x in rd if x >= 0.5]\n",
    "\n",
    "rdlarge\n",
    "\n",
    "# combine the `rd` and `rdlarge`\n",
    "[x for x in [random() for _ in range(5)] if x >= 0.5]"
   ]
  },
  {
   "cell_type": "markdown",
   "metadata": {},
   "source": [
    "#### *dict* & *set* comprehension"
   ]
  },
  {
   "cell_type": "code",
   "execution_count": 124,
   "metadata": {},
   "outputs": [
    {
     "data": {
      "text/plain": [
       "{0: 0, 1: 1, 2: 4, 3: 9, 4: 16}"
      ]
     },
     "execution_count": 124,
     "metadata": {},
     "output_type": "execute_result"
    },
    {
     "data": {
      "text/plain": [
       "{'w': 'ww', 'h': 'hh', 'a': 'aa', 't': 'tt'}"
      ]
     },
     "execution_count": 124,
     "metadata": {},
     "output_type": "execute_result"
    },
    {
     "data": {
      "text/plain": [
       "{0: [], 1: [0], 4: [0, 1], 9: [0, 1, 2], 16: [0, 1, 2, 3]}"
      ]
     },
     "execution_count": 124,
     "metadata": {},
     "output_type": "execute_result"
    },
    {
     "data": {
      "text/plain": [
       "[0, 0, 0, 0, 1, 2, 0, 2, 4]"
      ]
     },
     "execution_count": 124,
     "metadata": {},
     "output_type": "execute_result"
    },
    {
     "data": {
      "text/plain": [
       "{0, 1, 2, 4}"
      ]
     },
     "execution_count": 124,
     "metadata": {},
     "output_type": "execute_result"
    }
   ],
   "source": [
    "# ---- dict ---- \n",
    "\n",
    "# range | string \n",
    "{i: i**2 for i in range(5)}\n",
    "{s: s*2 for s in 'what'}\n",
    "\n",
    "{\n",
    "    x**2: [y for y in range(x)]  # k, [v]\n",
    "    for x in range(5)\n",
    "}\n",
    "\n",
    "# ---- set ---- \n",
    "\n",
    "[x*y for x in range(3) for y in range(3)]  # list compreh\n",
    "{x*y for x in range(3) for y in range(3)}  # set  compreh (unique & no-order)"
   ]
  },
  {
   "cell_type": "markdown",
   "metadata": {},
   "source": [
    "#### *lambda*"
   ]
  },
  {
   "cell_type": "code",
   "execution_count": 125,
   "metadata": {},
   "outputs": [
    {
     "data": {
      "text/plain": [
       "[<Spam: 5>, <Spam: 2>, <Spam: 3>]"
      ]
     },
     "execution_count": 125,
     "metadata": {},
     "output_type": "execute_result"
    },
    {
     "data": {
      "text/plain": [
       "[<Spam: 2>, <Spam: 3>, <Spam: 5>]"
      ]
     },
     "execution_count": 125,
     "metadata": {},
     "output_type": "execute_result"
    }
   ],
   "source": [
    "class Spam(object):\n",
    "    def __init__(self, value):\n",
    "        self.value = value \n",
    "        \n",
    "    def __repr__(self):\n",
    "        return f'<{self.__class__.__name__}: {self.value}>'\n",
    "    \n",
    "\n",
    "spams = [Spam(5), Spam(2), Spam(3)]\n",
    "spams\n",
    "\n",
    "spams_sorted = sorted(spams, key=lambda x: x.value)\n",
    "spams_sorted"
   ]
  },
  {
   "cell_type": "markdown",
   "metadata": {},
   "source": [
    "#### functools"
   ]
  },
  {
   "cell_type": "code",
   "execution_count": 126,
   "metadata": {},
   "outputs": [
    {
     "data": {
      "text/plain": [
       "[1, 3, 2, 4]"
      ]
     },
     "execution_count": 126,
     "metadata": {},
     "output_type": "execute_result"
    },
    {
     "data": {
      "text/plain": [
       "[1, 2]"
      ]
     },
     "execution_count": 126,
     "metadata": {},
     "output_type": "execute_result"
    }
   ],
   "source": [
    "import heapq\n",
    "from functools import partial \n",
    "\n",
    "heap = []\n",
    "\n",
    "# as shortcut \n",
    "push     = partial(heapq.heappush,  heap)\n",
    "smallest = partial(heapq.nsmallest, iterable=heap)\n",
    "\n",
    "push(3)\n",
    "push(1)\n",
    "push(2)\n",
    "push(4)\n",
    "\n",
    "heap \n",
    "smallest(2)"
   ]
  },
  {
   "cell_type": "code",
   "execution_count": 127,
   "metadata": {},
   "outputs": [
    {
     "data": {
      "text/plain": [
       "5050"
      ]
     },
     "execution_count": 127,
     "metadata": {},
     "output_type": "execute_result"
    },
    {
     "data": {
      "text/plain": [
       "3628800"
      ]
     },
     "execution_count": 127,
     "metadata": {},
     "output_type": "execute_result"
    }
   ],
   "source": [
    "import operator as opt \n",
    "from functools import reduce \n",
    "\n",
    "reduce(opt.add, range(1, 101))\n",
    "reduce(opt.mul, range(1, 11))"
   ]
  },
  {
   "cell_type": "code",
   "execution_count": 128,
   "metadata": {},
   "outputs": [
    {
     "data": {
      "text/plain": [
       "60"
      ]
     },
     "execution_count": 128,
     "metadata": {},
     "output_type": "execute_result"
    },
    {
     "data": {
      "text/plain": [
       "120"
      ]
     },
     "execution_count": 128,
     "metadata": {},
     "output_type": "execute_result"
    }
   ],
   "source": [
    "# --- example code from stdlib --- \n",
    "\n",
    "def _reduce(function, iterable, initializer=None):\n",
    "    \n",
    "    it = iter(iterable)      # conv as an iterator \n",
    "    \n",
    "    if initializer is None:  \n",
    "        value = next(it)     # take the first elem from ur iterable \n",
    "        \n",
    "    else:\n",
    "        value = initializer  # specify the start val by ur own \n",
    "        \n",
    "    for element in it:     \n",
    "        value = function(value, element)\n",
    "        \n",
    "    return value \n",
    "\n",
    "\n",
    "_reduce(opt.mul, [3,4,5])\n",
    "_reduce(opt.mul, [3,4,5], initializer=2)"
   ]
  },
  {
   "cell_type": "markdown",
   "metadata": {},
   "source": [
    "#### itertools"
   ]
  },
  {
   "cell_type": "code",
   "execution_count": 129,
   "metadata": {},
   "outputs": [],
   "source": [
    "import operator as opt \n",
    "import itertools as itr"
   ]
  },
  {
   "cell_type": "code",
   "execution_count": 130,
   "metadata": {},
   "outputs": [
    {
     "data": {
      "text/plain": [
       "[1, 3, 6, 10]"
      ]
     },
     "execution_count": 130,
     "metadata": {},
     "output_type": "execute_result"
    },
    {
     "data": {
      "text/plain": [
       "[1, 2, 6, 24]"
      ]
     },
     "execution_count": 130,
     "metadata": {},
     "output_type": "execute_result"
    }
   ],
   "source": [
    "# accumulate \n",
    "\n",
    "nums = [1, 2, 3, 4]\n",
    "  \n",
    "list(itr.accumulate(nums))          # 1, 1+2, 1+2+3, ...\n",
    "list(itr.accumulate(nums,opt.mul))  # 1, 1*2, 1*2*3, ..."
   ]
  },
  {
   "cell_type": "code",
   "execution_count": 131,
   "metadata": {},
   "outputs": [
    {
     "data": {
      "text/plain": [
       "[0, 1, 2, 3, 4, 5, 6, 7, 8, 9, 10]"
      ]
     },
     "execution_count": 131,
     "metadata": {},
     "output_type": "execute_result"
    },
    {
     "data": {
      "text/plain": [
       "[0, 1, 2, 3, 4, 5, 6, 7, 8, 9, 10]"
      ]
     },
     "execution_count": 131,
     "metadata": {},
     "output_type": "execute_result"
    }
   ],
   "source": [
    "# chain \n",
    "\n",
    "list(itr.chain(\n",
    "    range(0,5), range(5, 11)      # *iterables -- whatever \n",
    "))\n",
    "\n",
    "list(itr.chain.from_iterable(\n",
    "    [\n",
    "        range(0,5), range(5, 11)  # iterable   -- all in one \n",
    "    ]\n",
    "))"
   ]
  },
  {
   "cell_type": "code",
   "execution_count": 132,
   "metadata": {},
   "outputs": [
    {
     "data": {
      "text/plain": [
       "[('a', 'b'), ('a', 'c'), ('b', 'c')]"
      ]
     },
     "execution_count": 132,
     "metadata": {},
     "output_type": "execute_result"
    },
    {
     "data": {
      "text/plain": [
       "[('a', 'a'), ('a', 'b'), ('a', 'c'), ('b', 'b'), ('b', 'c'), ('c', 'c')]"
      ]
     },
     "execution_count": 132,
     "metadata": {},
     "output_type": "execute_result"
    },
    {
     "data": {
      "text/plain": [
       "[('a', 'b'), ('a', 'c'), ('b', 'a'), ('b', 'c'), ('c', 'a'), ('c', 'b')]"
      ]
     },
     "execution_count": 132,
     "metadata": {},
     "output_type": "execute_result"
    },
    {
     "data": {
      "text/plain": [
       "[(), ('x',), ('y',), ('x', 'y')]"
      ]
     },
     "execution_count": 132,
     "metadata": {},
     "output_type": "execute_result"
    }
   ],
   "source": [
    "# combinations  &  permutations \n",
    "\n",
    "list(itr.combinations(\n",
    "    'abc', 2  \n",
    "))\n",
    "\n",
    "list(itr.combinations_with_replacement(\n",
    "    'abc', 2  # 'ab' is the same as 'ba'\n",
    "))\n",
    "\n",
    "list(itr.permutations(\n",
    "    'abc', 2  # 'ab' differs from 'ba'\n",
    "))\n",
    "\n",
    "# powerset ( {x,y} -> {}, {x}, {y}, {x,y} )\n",
    "\n",
    "def powerset(iterable):\n",
    "    return itr.chain.from_iterable(\n",
    "        itr.combinations(\n",
    "            iterable, i\n",
    "        ) for i in range(len(iterable) + 1)\n",
    "    )\n",
    "\n",
    "list(powerset('xy'))"
   ]
  },
  {
   "cell_type": "code",
   "execution_count": 133,
   "metadata": {},
   "outputs": [
    {
     "data": {
      "text/plain": [
       "[1, 2, 3]"
      ]
     },
     "execution_count": 133,
     "metadata": {},
     "output_type": "execute_result"
    }
   ],
   "source": [
    "# compress \n",
    "\n",
    "list(itr.compress(\n",
    "    range(0,10),            # the size was being limitted by the `flag`\n",
    "    [False, True, 1, 1, 0]  # as flag (or filter, sort of)\n",
    "))"
   ]
  },
  {
   "cell_type": "code",
   "execution_count": 134,
   "metadata": {},
   "outputs": [
    {
     "data": {
      "text/plain": [
       "[10, 20]"
      ]
     },
     "execution_count": 134,
     "metadata": {},
     "output_type": "execute_result"
    },
    {
     "data": {
      "text/plain": [
       "[1, 2]"
      ]
     },
     "execution_count": 134,
     "metadata": {},
     "output_type": "execute_result"
    },
    {
     "data": {
      "text/plain": [
       "[10, 2, 20]"
      ]
     },
     "execution_count": 134,
     "metadata": {},
     "output_type": "execute_result"
    },
    {
     "data": {
      "text/plain": [
       "[1]"
      ]
     },
     "execution_count": 134,
     "metadata": {},
     "output_type": "execute_result"
    }
   ],
   "source": [
    "# dropwhile  &  takewhile \n",
    "\n",
    "# ---- example one ----\n",
    "\n",
    "list(itr.dropwhile(\n",
    "    lambda x: x<3, [1, 2, 10, 20]  # 'num lt 3 -> [1, 2]' => [10, 20]\n",
    "))\n",
    "\n",
    "list(itr.takewhile(\n",
    "    lambda x: x<3, [1, 2, 10, 20]  # reverse version of `dropwhile` (sort of)\n",
    "))\n",
    "\n",
    "# ---- example two ----\n",
    "\n",
    "list(itr.dropwhile(\n",
    "    lambda x: x<3, [1, 10, 2, 20]  # note: the '2' was preserved\n",
    "))\n",
    "\n",
    "list(itr.takewhile(\n",
    "    lambda x: x<3, [1, 10, 2, 20]  # only got '1', no '2'\n",
    "))"
   ]
  },
  {
   "cell_type": "code",
   "execution_count": 135,
   "metadata": {},
   "outputs": [
    {
     "data": {
      "text/plain": [
       "(0, 0)"
      ]
     },
     "execution_count": 135,
     "metadata": {},
     "output_type": "execute_result"
    },
    {
     "data": {
      "text/plain": [
       "(1, 1)"
      ]
     },
     "execution_count": 135,
     "metadata": {},
     "output_type": "execute_result"
    },
    {
     "data": {
      "text/plain": [
       "(2, 2)"
      ]
     },
     "execution_count": 135,
     "metadata": {},
     "output_type": "execute_result"
    },
    {
     "data": {
      "text/plain": [
       "(0, 10)"
      ]
     },
     "execution_count": 135,
     "metadata": {},
     "output_type": "execute_result"
    },
    {
     "data": {
      "text/plain": [
       "(1, 11)"
      ]
     },
     "execution_count": 135,
     "metadata": {},
     "output_type": "execute_result"
    },
    {
     "data": {
      "text/plain": [
       "(2, 12)"
      ]
     },
     "execution_count": 135,
     "metadata": {},
     "output_type": "execute_result"
    }
   ],
   "source": [
    "# count \n",
    "\n",
    "for a, b in zip(range(3), itr.count()):  \n",
    "    a, b                  # the count start with 0 (default)\n",
    "    \n",
    "for a, b in zip(range(3), itr.count(10)):\n",
    "    a, b                  # specify ur own"
   ]
  },
  {
   "cell_type": "code",
   "execution_count": 136,
   "metadata": {},
   "outputs": [
    {
     "data": {
      "text/plain": [
       "(0, 9)"
      ]
     },
     "execution_count": 136,
     "metadata": {},
     "output_type": "execute_result"
    },
    {
     "data": {
      "text/plain": [
       "(3, 12)"
      ]
     },
     "execution_count": 136,
     "metadata": {},
     "output_type": "execute_result"
    },
    {
     "data": {
      "text/plain": [
       "(6, 15)"
      ]
     },
     "execution_count": 136,
     "metadata": {},
     "output_type": "execute_result"
    },
    {
     "data": {
      "text/plain": [
       "(9, 18)"
      ]
     },
     "execution_count": 136,
     "metadata": {},
     "output_type": "execute_result"
    },
    {
     "data": {
      "text/plain": [
       "(0, 1)"
      ]
     },
     "execution_count": 136,
     "metadata": {},
     "output_type": "execute_result"
    },
    {
     "data": {
      "text/plain": [
       "(1, 1.5)"
      ]
     },
     "execution_count": 136,
     "metadata": {},
     "output_type": "execute_result"
    },
    {
     "data": {
      "text/plain": [
       "(2, 2.0)"
      ]
     },
     "execution_count": 136,
     "metadata": {},
     "output_type": "execute_result"
    },
    {
     "data": {
      "text/plain": [
       "(3, 2.5)"
      ]
     },
     "execution_count": 136,
     "metadata": {},
     "output_type": "execute_result"
    },
    {
     "data": {
      "text/plain": [
       "(4, 3.0)"
      ]
     },
     "execution_count": 136,
     "metadata": {},
     "output_type": "execute_result"
    }
   ],
   "source": [
    "for a, b in zip(range(0, 10, 3), itr.count(9, 3)):\n",
    "    a, b                  # `step` is supported\n",
    "\n",
    "for a, b in zip(range(0, 5), itr.count(1, 0.5)):\n",
    "    a, b                  # and the other example "
   ]
  },
  {
   "cell_type": "code",
   "execution_count": 158,
   "metadata": {},
   "outputs": [
    {
     "data": {
      "text/plain": [
       "<itertools.islice at 0x10efe8778>"
      ]
     },
     "execution_count": 158,
     "metadata": {},
     "output_type": "execute_result"
    },
    {
     "data": {
      "text/plain": [
       "<zip at 0x10efcd608>"
      ]
     },
     "execution_count": 158,
     "metadata": {},
     "output_type": "execute_result"
    },
    {
     "data": {
      "text/plain": [
       "[0]"
      ]
     },
     "execution_count": 158,
     "metadata": {},
     "output_type": "execute_result"
    },
    {
     "data": {
      "text/plain": [
       "[1, 2, 3, 4, 5, 6, 7, 8, 9]"
      ]
     },
     "execution_count": 158,
     "metadata": {},
     "output_type": "execute_result"
    },
    {
     "data": {
      "text/plain": [
       "[1, 4, 7]"
      ]
     },
     "execution_count": 158,
     "metadata": {},
     "output_type": "execute_result"
    }
   ],
   "source": [
    "# islice \n",
    "\n",
    "# ---- get what u want from a generator ---- \n",
    "itr.islice(zip(itr.count(), [1, 2, 3]), 1); \\\n",
    "           zip(itr.count(), [1, 2, 3])\n",
    "\n",
    "# well (just like normal slice)\n",
    "list(itr.islice(itr.count(0), \n",
    "                1))\n",
    "list(itr.islice(itr.count(), \n",
    "                1, 10))\n",
    "list(itr.islice(itr.count(), \n",
    "                1, 10, 3))"
   ]
  },
  {
   "cell_type": "code",
   "execution_count": 159,
   "metadata": {},
   "outputs": [
    {
     "name": "stdout",
     "output_type": "stream",
     "text": [
      "a: [1, 2]\n",
      "b: [0, 2]\n",
      "c: [3]\n"
     ]
    },
    {
     "data": {
      "text/plain": [
       "[]"
      ]
     },
     "execution_count": 159,
     "metadata": {},
     "output_type": "execute_result"
    }
   ],
   "source": [
    "# groupby \n",
    "\n",
    "items = [\n",
    "    ('a', 1), ('a', 2), \n",
    "    ('b', 2), ('b', 0), \n",
    "    ('c', 3)\n",
    "]\n",
    "\n",
    "items.sort()  # optional \n",
    "\n",
    "for grp, items in itr.groupby(items, lambda x: x[0]):\n",
    "    print(f'{grp}: {[v for k,v in items]}')\n",
    "    \n",
    "list(items)   # => None ( exhausted by the `groupby` ) "
   ]
  },
  {
   "cell_type": "markdown",
   "metadata": {},
   "source": [
    "#### ***The end***."
   ]
  }
 ],
 "metadata": {
  "kernelspec": {
   "display_name": "Python 3",
   "language": "python",
   "name": "python3"
  },
  "language_info": {
   "codemirror_mode": {
    "name": "ipython",
    "version": 3
   },
   "file_extension": ".py",
   "mimetype": "text/x-python",
   "name": "python",
   "nbconvert_exporter": "python",
   "pygments_lexer": "ipython3",
   "version": "3.6.5"
  }
 },
 "nbformat": 4,
 "nbformat_minor": 2
}
