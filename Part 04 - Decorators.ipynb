{
 "cells": [
  {
   "cell_type": "markdown",
   "metadata": {},
   "source": [
    "<br>Let's talk about ***Decorators***.<br>"
   ]
  },
  {
   "cell_type": "code",
   "execution_count": 1,
   "metadata": {},
   "outputs": [],
   "source": [
    "from functools import wraps, lru_cache"
   ]
  },
  {
   "cell_type": "markdown",
   "metadata": {},
   "source": [
    "0x01 - the ```@wraps```"
   ]
  },
  {
   "cell_type": "code",
   "execution_count": 2,
   "metadata": {},
   "outputs": [],
   "source": [
    "def eggs(func):\n",
    "    \n",
    "    @wraps(func)  # crucial line for deco (preserve the func's state)\n",
    "    def _eggs(*args, **kwargs):\n",
    "        ''' doc for deco '''\n",
    "        print(f'{func.__name__!r} got args: {args!r} and ..')\n",
    "        return func(*args, **kwargs)\n",
    "\n",
    "    return _eggs"
   ]
  },
  {
   "cell_type": "code",
   "execution_count": 3,
   "metadata": {},
   "outputs": [
    {
     "data": {
      "text/plain": [
       "'spam'"
      ]
     },
     "execution_count": 3,
     "metadata": {},
     "output_type": "execute_result"
    },
    {
     "name": "stdout",
     "output_type": "stream",
     "text": [
      "Help on function spam in module __main__:\n",
      "\n",
      "spam(a, b, c)\n",
      "    doc for spam\n",
      "\n"
     ]
    }
   ],
   "source": [
    "@eggs\n",
    "def spam(a, b, c):\n",
    "    ''' doc for spam '''\n",
    "    return a * b * c\n",
    "\n",
    "# its name, classname, ... are all preserved (by @wraps)\n",
    "spam.__name__\n",
    "help(spam)"
   ]
  },
  {
   "cell_type": "markdown",
   "metadata": {},
   "source": [
    "0x02 - *debug*"
   ]
  },
  {
   "cell_type": "code",
   "execution_count": 4,
   "metadata": {},
   "outputs": [
    {
     "name": "stdout",
     "output_type": "stream",
     "text": [
      "'sayhi' got args: (5,)\n"
     ]
    },
    {
     "data": {
      "text/plain": [
       "'Hi Hi Hi Hi Hi '"
      ]
     },
     "execution_count": 4,
     "metadata": {},
     "output_type": "execute_result"
    }
   ],
   "source": [
    "def debug(func):\n",
    "    \n",
    "    @wraps(func)\n",
    "    def _debug(*args, **kwargs):\n",
    "        ''' almost the same as the first example XD '''\n",
    "        \n",
    "        output = func(*args, **kwargs)\n",
    "        print(f'{func.__name__!r} got args: {args!r}')\n",
    "        \n",
    "        return output\n",
    "    return _debug \n",
    "\n",
    "\n",
    "@debug\n",
    "def sayhi(times):\n",
    "    return 'Hi ' * times\n",
    "\n",
    "sayhi(5)"
   ]
  },
  {
   "cell_type": "markdown",
   "metadata": {},
   "source": [
    "0x03 - *caching*"
   ]
  },
  {
   "cell_type": "code",
   "execution_count": 5,
   "metadata": {},
   "outputs": [],
   "source": [
    "def memoize(func):\n",
    "    ''' a similar func `lru_cache` introduce by Python in ver3.2 \n",
    "    \n",
    "        It (lru_cache) \n",
    "            contains a fixed cache size (128 by default) to save the memory\n",
    "            and use some statistics to check whether the cache size should be increased\n",
    "    '''\n",
    "    \n",
    "    func.cache = dict()  # access it by '__wrapped__.cache' in outer scope \n",
    "    \n",
    "    @wraps(func)\n",
    "    def _memoize(*args):\n",
    "        \n",
    "        if args not in func.cache:\n",
    "            func.cache[args] = func(*args)\n",
    "        \n",
    "        return func.cache[args]\n",
    "    return _memoize"
   ]
  },
  {
   "cell_type": "code",
   "execution_count": 6,
   "metadata": {},
   "outputs": [
    {
     "data": {
      "text/plain": [
       "(1, 1)"
      ]
     },
     "execution_count": 6,
     "metadata": {},
     "output_type": "execute_result"
    },
    {
     "data": {
      "text/plain": [
       "(2, 1)"
      ]
     },
     "execution_count": 6,
     "metadata": {},
     "output_type": "execute_result"
    },
    {
     "data": {
      "text/plain": [
       "(3, 2)"
      ]
     },
     "execution_count": 6,
     "metadata": {},
     "output_type": "execute_result"
    },
    {
     "data": {
      "text/plain": [
       "(4, 3)"
      ]
     },
     "execution_count": 6,
     "metadata": {},
     "output_type": "execute_result"
    },
    {
     "data": {
      "text/plain": [
       "{(1,): 1, (0,): 0, (2,): 1, (3,): 2, (4,): 3}"
      ]
     },
     "execution_count": 6,
     "metadata": {},
     "output_type": "execute_result"
    }
   ],
   "source": [
    "# example: Fib\n",
    "\n",
    "@memoize\n",
    "def fib(n):\n",
    "    if n < 2:\n",
    "        return n\n",
    "    else:\n",
    "        return fib(n - 1) + fib(n - 2)\n",
    "    \n",
    "for i in range(1, 5):\n",
    "    i, fib(i)\n",
    "    \n",
    "# check out the cache!\n",
    "fib.__wrapped__.cache"
   ]
  },
  {
   "cell_type": "code",
   "execution_count": 7,
   "metadata": {},
   "outputs": [],
   "source": [
    "# example: how `lru_cache` works internally \n",
    "\n",
    "def counter(func):\n",
    "    \n",
    "    func.calls = 0\n",
    "    \n",
    "    @wraps(func)\n",
    "    def _counter(*args, **kwargs):\n",
    "        \n",
    "        func.calls += 1\n",
    "        \n",
    "        return func(*args, **kwargs)\n",
    "    return _counter\n",
    "\n",
    "\n",
    "@lru_cache(maxsize=3)\n",
    "@counter\n",
    "def fib(n):\n",
    "    if n < 2:\n",
    "        return n \n",
    "    else:\n",
    "        return fib(n - 1) + fib(n - 2)"
   ]
  },
  {
   "cell_type": "code",
   "execution_count": 8,
   "metadata": {},
   "outputs": [
    {
     "data": {
      "text/plain": [
       "354224848179261915075"
      ]
     },
     "execution_count": 8,
     "metadata": {},
     "output_type": "execute_result"
    },
    {
     "data": {
      "text/plain": [
       "CacheInfo(hits=98, misses=101, maxsize=3, currsize=3)"
      ]
     },
     "execution_count": 8,
     "metadata": {},
     "output_type": "execute_result"
    },
    {
     "data": {
      "text/plain": [
       "101"
      ]
     },
     "execution_count": 8,
     "metadata": {},
     "output_type": "execute_result"
    }
   ],
   "source": [
    "fib(100)          # other num is fine as well :)\n",
    "fib.cache_info()  # sort of statistics of caching \n",
    "\n",
    "fib.__wrapped__.__wrapped__.calls  # well, there's two decos ( normal for x.y.z )"
   ]
  },
  {
   "cell_type": "markdown",
   "metadata": {},
   "source": [
    "0x04 - deco with (optional) args"
   ]
  },
  {
   "cell_type": "code",
   "execution_count": 26,
   "metadata": {},
   "outputs": [
    {
     "data": {
      "text/plain": [
       "'hi hi hi hi hi hi '"
      ]
     },
     "execution_count": 26,
     "metadata": {},
     "output_type": "execute_result"
    },
    {
     "data": {
      "text/plain": [
       "<function __main__.add.<locals>._add.<locals>.__add>"
      ]
     },
     "execution_count": 26,
     "metadata": {},
     "output_type": "execute_result"
    }
   ],
   "source": [
    "# well\n",
    "\n",
    "def add(extra_n=1):\n",
    "    ''' nesting! '''\n",
    "    \n",
    "    def _add(func):  \n",
    "        ''' here's the real deco '''\n",
    "        \n",
    "        @wraps(func)\n",
    "        def __add(n):\n",
    "            return func(n + extra_n)  # e.g. sayhi(2+3)\n",
    "        \n",
    "        return __add\n",
    "    return _add\n",
    "\n",
    "\n",
    "# actual calls \n",
    "#   note: the result might be changed by the decorated version (sayhi)\n",
    "add(extra_n=2)(sayhi)(2)\n",
    "add(sayhi)(2)"
   ]
  },
  {
   "cell_type": "code",
   "execution_count": 27,
   "metadata": {},
   "outputs": [
    {
     "data": {
      "text/plain": [
       "'hi hi hi hi hi '"
      ]
     },
     "execution_count": 27,
     "metadata": {},
     "output_type": "execute_result"
    }
   ],
   "source": [
    "# example: call with decorators \n",
    "\n",
    "@add(extra_n=2)\n",
    "def sayhi(n):\n",
    "    return 'hi ' * n\n",
    "\n",
    "sayhi(3)"
   ]
  },
  {
   "cell_type": "code",
   "execution_count": 33,
   "metadata": {},
   "outputs": [],
   "source": [
    "# example: \n",
    "#   check the deco was called with a function OR a regular param\n",
    "\n",
    "def add(*args, **kwargs):\n",
    "    ''' add n to the input of the decorated func '''\n",
    "    \n",
    "    default_kwargs = dict(n=1)\n",
    "    \n",
    "    def _add(func):\n",
    "        \n",
    "        @wraps(func)\n",
    "        def __add(n):\n",
    "            default_kwargs.update(kwargs)\n",
    "            \n",
    "            return func(n + default_kwargs['n'])\n",
    "        return __add\n",
    "    \n",
    "    if len(args) == 1 and callable(args[0]) and not kwargs: \n",
    "        \n",
    "        return _add(args[0])\n",
    "    \n",
    "    elif not args and kwargs:  \n",
    "        \n",
    "        default_kwargs.update(kwargs)\n",
    "        return _add\n",
    "    \n",
    "    else:\n",
    "        \n",
    "        raise RuntimeError('This deco only supports kw args.')"
   ]
  },
  {
   "cell_type": "code",
   "execution_count": 38,
   "metadata": {},
   "outputs": [
    {
     "data": {
      "text/plain": [
       "'Hi Hi Hi Hi '"
      ]
     },
     "execution_count": 38,
     "metadata": {},
     "output_type": "execute_result"
    },
    {
     "data": {
      "text/plain": [
       "'Yo Yo Yo Yo Yo Yo '"
      ]
     },
     "execution_count": 38,
     "metadata": {},
     "output_type": "execute_result"
    }
   ],
   "source": [
    "@add\n",
    "def hi(n):\n",
    "    return 'Hi ' * n\n",
    "\n",
    "hi(3)\n",
    "\n",
    "@add(n=3)\n",
    "def yo(n):\n",
    "    return 'Yo ' * n\n",
    "\n",
    "yo(3)"
   ]
  }
 ],
 "metadata": {
  "kernelspec": {
   "display_name": "Python 3",
   "language": "python",
   "name": "python3"
  },
  "language_info": {
   "codemirror_mode": {
    "name": "ipython",
    "version": 3
   },
   "file_extension": ".py",
   "mimetype": "text/x-python",
   "name": "python",
   "nbconvert_exporter": "python",
   "pygments_lexer": "ipython3",
   "version": "3.6.5"
  }
 },
 "nbformat": 4,
 "nbformat_minor": 2
}
