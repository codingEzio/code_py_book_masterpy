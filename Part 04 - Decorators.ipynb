{
 "cells": [
  {
   "cell_type": "markdown",
   "metadata": {},
   "source": [
    "<hr>\n",
    "\n",
    "Let's talk about ***Decorators***.\n",
    "\n",
    "<hr>"
   ]
  },
  {
   "cell_type": "code",
   "execution_count": 70,
   "metadata": {},
   "outputs": [],
   "source": [
    "from functools import (\n",
    "    wraps, update_wrapper, \n",
    "    lru_cache, \n",
    "    total_ordering\n",
    ")\n",
    "\n",
    "from pprint import pprint, pformat"
   ]
  },
  {
   "cell_type": "markdown",
   "metadata": {},
   "source": [
    "0x01 - the ```@wraps```"
   ]
  },
  {
   "cell_type": "code",
   "execution_count": 71,
   "metadata": {},
   "outputs": [],
   "source": [
    "def eggs(func):\n",
    "    \n",
    "    @wraps(func)  # crucial line for deco (preserve the func's state)\n",
    "    def _eggs(*args, **kwargs):\n",
    "        ''' doc for deco '''\n",
    "        print(f'{func.__name__!r} got args: {args!r} and ..')\n",
    "        return func(*args, **kwargs)\n",
    "\n",
    "    return _eggs"
   ]
  },
  {
   "cell_type": "code",
   "execution_count": 72,
   "metadata": {},
   "outputs": [
    {
     "data": {
      "text/plain": [
       "'spam'"
      ]
     },
     "execution_count": 72,
     "metadata": {},
     "output_type": "execute_result"
    },
    {
     "name": "stdout",
     "output_type": "stream",
     "text": [
      "Help on function spam in module __main__:\n",
      "\n",
      "spam(a, b, c)\n",
      "    doc for spam\n",
      "\n"
     ]
    }
   ],
   "source": [
    "@eggs\n",
    "def spam(a, b, c):\n",
    "    ''' doc for spam '''\n",
    "    return a * b * c\n",
    "\n",
    "# its name, classname, ... are all preserved (by @wraps)\n",
    "spam.__name__\n",
    "help(spam)"
   ]
  },
  {
   "cell_type": "markdown",
   "metadata": {},
   "source": [
    "0x02 - *debug*"
   ]
  },
  {
   "cell_type": "code",
   "execution_count": 73,
   "metadata": {},
   "outputs": [
    {
     "name": "stdout",
     "output_type": "stream",
     "text": [
      "'sayhi' got args: (5,)\n"
     ]
    },
    {
     "data": {
      "text/plain": [
       "'Hi Hi Hi Hi Hi '"
      ]
     },
     "execution_count": 73,
     "metadata": {},
     "output_type": "execute_result"
    }
   ],
   "source": [
    "def debug(func):\n",
    "    \n",
    "    @wraps(func)\n",
    "    def _debug(*args, **kwargs):\n",
    "        ''' almost the same as the first example XD '''\n",
    "        \n",
    "        output = func(*args, **kwargs)\n",
    "        print(f'{func.__name__!r} got args: {args!r}')\n",
    "        \n",
    "        return output\n",
    "    return _debug \n",
    "\n",
    "\n",
    "@debug\n",
    "def sayhi(times):\n",
    "    return 'Hi ' * times\n",
    "\n",
    "sayhi(5)"
   ]
  },
  {
   "cell_type": "markdown",
   "metadata": {},
   "source": [
    "0x03 - *caching*"
   ]
  },
  {
   "cell_type": "code",
   "execution_count": 74,
   "metadata": {},
   "outputs": [],
   "source": [
    "def memoize(func):\n",
    "    ''' \n",
    "    a similar func `lru_cache` introduce by Python in ver3.2 \n",
    "    \n",
    "    It (lru_cache) \n",
    "      contains a fixed cache size (128 by default) to save the memory\n",
    "      and use some stat to check whether the size should be increased\n",
    "    '''\n",
    "    \n",
    "    func.cache = dict()  # access it by '__wrapped__.cache' in outer scope \n",
    "    \n",
    "    @wraps(func)\n",
    "    def _memoize(*args):\n",
    "        \n",
    "        if args not in func.cache:\n",
    "            func.cache[args] = func(*args)\n",
    "        \n",
    "        return func.cache[args]\n",
    "    return _memoize"
   ]
  },
  {
   "cell_type": "code",
   "execution_count": 75,
   "metadata": {},
   "outputs": [
    {
     "data": {
      "text/plain": [
       "(1, 1)"
      ]
     },
     "execution_count": 75,
     "metadata": {},
     "output_type": "execute_result"
    },
    {
     "data": {
      "text/plain": [
       "(2, 1)"
      ]
     },
     "execution_count": 75,
     "metadata": {},
     "output_type": "execute_result"
    },
    {
     "data": {
      "text/plain": [
       "(3, 2)"
      ]
     },
     "execution_count": 75,
     "metadata": {},
     "output_type": "execute_result"
    },
    {
     "data": {
      "text/plain": [
       "(4, 3)"
      ]
     },
     "execution_count": 75,
     "metadata": {},
     "output_type": "execute_result"
    },
    {
     "data": {
      "text/plain": [
       "{(1,): 1, (0,): 0, (2,): 1, (3,): 2, (4,): 3}"
      ]
     },
     "execution_count": 75,
     "metadata": {},
     "output_type": "execute_result"
    }
   ],
   "source": [
    "# example: Fib\n",
    "\n",
    "@memoize\n",
    "def fib(n):\n",
    "    if n < 2:\n",
    "        return n\n",
    "    else:\n",
    "        return fib(n - 1) + fib(n - 2)\n",
    "    \n",
    "for i in range(1, 5):\n",
    "    i, fib(i)\n",
    "    \n",
    "# check out the cache!\n",
    "fib.__wrapped__.cache"
   ]
  },
  {
   "cell_type": "code",
   "execution_count": 76,
   "metadata": {},
   "outputs": [],
   "source": [
    "# example: how `lru_cache` works internally \n",
    "\n",
    "def counter(func):\n",
    "    \n",
    "    func.calls = 0\n",
    "    \n",
    "    @wraps(func)\n",
    "    def _counter(*args, **kwargs):\n",
    "        \n",
    "        func.calls += 1\n",
    "        \n",
    "        return func(*args, **kwargs)\n",
    "    return _counter\n",
    "\n",
    "\n",
    "@lru_cache(maxsize=3)\n",
    "@counter\n",
    "def fib(n):\n",
    "    if n < 2:\n",
    "        return n \n",
    "    else:\n",
    "        return fib(n - 1) + fib(n - 2)"
   ]
  },
  {
   "cell_type": "code",
   "execution_count": 77,
   "metadata": {},
   "outputs": [
    {
     "data": {
      "text/plain": [
       "354224848179261915075"
      ]
     },
     "execution_count": 77,
     "metadata": {},
     "output_type": "execute_result"
    },
    {
     "data": {
      "text/plain": [
       "CacheInfo(hits=98, misses=101, maxsize=3, currsize=3)"
      ]
     },
     "execution_count": 77,
     "metadata": {},
     "output_type": "execute_result"
    },
    {
     "data": {
      "text/plain": [
       "101"
      ]
     },
     "execution_count": 77,
     "metadata": {},
     "output_type": "execute_result"
    }
   ],
   "source": [
    "fib(100)          # other num is fine as well :)\n",
    "fib.cache_info()  # sort of statistics of caching \n",
    "\n",
    "fib.__wrapped__.__wrapped__.calls "
   ]
  },
  {
   "cell_type": "markdown",
   "metadata": {},
   "source": [
    "0x04 - deco with (optional) args"
   ]
  },
  {
   "cell_type": "code",
   "execution_count": 78,
   "metadata": {},
   "outputs": [
    {
     "name": "stdout",
     "output_type": "stream",
     "text": [
      "'sayhi' got args: (4,)\n"
     ]
    },
    {
     "data": {
      "text/plain": [
       "'Hi Hi Hi Hi '"
      ]
     },
     "execution_count": 78,
     "metadata": {},
     "output_type": "execute_result"
    },
    {
     "data": {
      "text/plain": [
       "<function __main__.add.<locals>._add.<locals>.__add>"
      ]
     },
     "execution_count": 78,
     "metadata": {},
     "output_type": "execute_result"
    }
   ],
   "source": [
    "# well\n",
    "\n",
    "def add(extra_n=1):\n",
    "    ''' nesting! '''\n",
    "    \n",
    "    def _add(func):  \n",
    "        ''' here's the real deco '''\n",
    "        \n",
    "        @wraps(func)\n",
    "        def __add(n):\n",
    "            return func(n + extra_n)  # e.g. sayhi(2+3)\n",
    "        \n",
    "        return __add\n",
    "    return _add\n",
    "\n",
    "\n",
    "# actual calls \n",
    "#   { the result might be changed by the decorated version (sayhi) }\n",
    "add(extra_n=2)(sayhi)(2)\n",
    "add(sayhi)(2)"
   ]
  },
  {
   "cell_type": "code",
   "execution_count": 79,
   "metadata": {},
   "outputs": [
    {
     "data": {
      "text/plain": [
       "'hi hi hi hi hi '"
      ]
     },
     "execution_count": 79,
     "metadata": {},
     "output_type": "execute_result"
    }
   ],
   "source": [
    "# example: call with decorators \n",
    "\n",
    "@add(extra_n=2)\n",
    "def sayhi(n):\n",
    "    return 'hi ' * n\n",
    "\n",
    "sayhi(3)"
   ]
  },
  {
   "cell_type": "code",
   "execution_count": 80,
   "metadata": {},
   "outputs": [],
   "source": [
    "# example: \n",
    "#   check the deco was called with a function OR a regular param\n",
    "\n",
    "def add(*args, **kwargs):\n",
    "    ''' add n to the input of the decorated func \n",
    "    '''\n",
    "    \n",
    "    default_kwargs = dict(n=1)\n",
    "    \n",
    "    def _add(func):\n",
    "        \n",
    "        @wraps(func)\n",
    "        def __add(n):\n",
    "            default_kwargs.update(kwargs)\n",
    "            \n",
    "            return func(n + default_kwargs['n'])\n",
    "        return __add\n",
    "    \n",
    "    if len(args) == 1 and callable(args[0]) and not kwargs: \n",
    "        \n",
    "        return _add(args[0])\n",
    "    \n",
    "    elif not args and kwargs:    \n",
    "        \n",
    "        default_kwargs.update(kwargs)\n",
    "        return _add\n",
    "    \n",
    "    else:\n",
    "        raise RuntimeError('This deco only supports kw args.')"
   ]
  },
  {
   "cell_type": "code",
   "execution_count": 81,
   "metadata": {},
   "outputs": [
    {
     "data": {
      "text/plain": [
       "'Hi Hi Hi Hi '"
      ]
     },
     "execution_count": 81,
     "metadata": {},
     "output_type": "execute_result"
    },
    {
     "data": {
      "text/plain": [
       "'Yo Yo Yo Yo Yo Yo '"
      ]
     },
     "execution_count": 81,
     "metadata": {},
     "output_type": "execute_result"
    }
   ],
   "source": [
    "# ---- no arg ---- \n",
    "\n",
    "@add\n",
    "def hi(n):\n",
    "    return 'Hi ' * n\n",
    "\n",
    "hi(3)\n",
    "\n",
    "\n",
    "# ---- with kw args ---- \n",
    "    \n",
    "@add(n=3) \n",
    "def yo(n):\n",
    "    return 'Yo ' * n\n",
    "\n",
    "yo(3)"
   ]
  },
  {
   "cell_type": "markdown",
   "metadata": {},
   "source": [
    "0x05 - creating deco using classes"
   ]
  },
  {
   "cell_type": "code",
   "execution_count": 82,
   "metadata": {},
   "outputs": [],
   "source": [
    "# take `Debug` as an example \n",
    "\n",
    "class Debug(object):\n",
    "    ''' by using classes, \n",
    "          ya need change the `wraps` to `update_wrapper` !! \n",
    "    '''\n",
    "    \n",
    "    def __init__(self, func):\n",
    "        \n",
    "        self.func = func \n",
    "        update_wrapper(self, func)\n",
    "        \n",
    "    def __call__(self, *args, **kwargs):\n",
    "        \n",
    "        output = self.func(*args, **kwargs)\n",
    "        print(f'{self.func.__name__} --- {args}, {kwargs} --- {output!r}')\n",
    "        \n",
    "        return output"
   ]
  },
  {
   "cell_type": "code",
   "execution_count": 83,
   "metadata": {},
   "outputs": [
    {
     "name": "stdout",
     "output_type": "stream",
     "text": [
      "sayhi --- (5,), {} --- 'HiHiHiHiHi'\n"
     ]
    },
    {
     "data": {
      "text/plain": [
       "'HiHiHiHiHi'"
      ]
     },
     "execution_count": 83,
     "metadata": {},
     "output_type": "execute_result"
    },
    {
     "name": "stdout",
     "output_type": "stream",
     "text": [
      "sayhi --- (3,), {} --- 'HiHiHi'\n"
     ]
    },
    {
     "data": {
      "text/plain": [
       "'HiHiHi'"
      ]
     },
     "execution_count": 83,
     "metadata": {},
     "output_type": "execute_result"
    }
   ],
   "source": [
    "@Debug\n",
    "def sayhi(n):\n",
    "    return 'Hi' * n\n",
    "\n",
    "sayhi(5)\n",
    "\n",
    "\n",
    "output = sayhi(3)\n",
    "output"
   ]
  },
  {
   "cell_type": "markdown",
   "metadata": {},
   "source": [
    "0x06 - decorating ***class functions***"
   ]
  },
  {
   "cell_type": "code",
   "execution_count": 84,
   "metadata": {},
   "outputs": [
    {
     "data": {
      "text/plain": [
       "'HiHiHi'"
      ]
     },
     "execution_count": 84,
     "metadata": {},
     "output_type": "execute_result"
    }
   ],
   "source": [
    "# example: aha\n",
    "\n",
    "def plus_one(func):\n",
    "    \n",
    "    @wraps(func)\n",
    "    def _plus_one(self, n):\n",
    "        return func(self, n + 1)\n",
    "    \n",
    "    return _plus_one\n",
    "\n",
    "\n",
    "class SayIt(object):\n",
    "    @plus_one\n",
    "    def hi(self, n=2):\n",
    "        return 'Hi' * n\n",
    "\n",
    "    \n",
    "sayit = SayIt()\n",
    "sayit.hi(2)"
   ]
  },
  {
   "cell_type": "code",
   "execution_count": 85,
   "metadata": {},
   "outputs": [],
   "source": [
    "# example: `classmethod` & `staticmethod\n",
    "\n",
    "class Greet(object):\n",
    "    \n",
    "    def some_instmethod(self, *args, **kwargs):\n",
    "        print(f'self   :  {self!r}')\n",
    "        print(f'args   :  {pformat(args)}')   # `pformat` from 'pprint'\n",
    "        print(f'kwargs :  {pformat(kwargs)}') \n",
    "        \n",
    "    @classmethod\n",
    "    def some_clsmethod(cls, *args, **kwargs):\n",
    "        print(f'cls    :  {cls!r}')\n",
    "        print(f'args   :  {pformat(args)}')    \n",
    "        print(f'kwargs :  {pformat(kwargs)}')  \n",
    "        \n",
    "    @staticmethod\n",
    "    def some_statmethod(self, *args, **kwargs):\n",
    "        print(f'args   :  {pformat(args)}')    \n",
    "        print(f'kwargs :  {pformat(kwargs)}')  \n",
    "\n",
    "        \n",
    "hi = Greet()"
   ]
  },
  {
   "cell_type": "code",
   "execution_count": 86,
   "metadata": {},
   "outputs": [
    {
     "name": "stdout",
     "output_type": "stream",
     "text": [
      "self   :  <__main__.Greet object at 0x10f105c18>\n",
      "args   :  (1, 2)\n",
      "kwargs :  {'a': 3, 'b': 4}\n"
     ]
    },
    {
     "data": {
      "text/plain": [
       "TypeError(\"some_instmethod() missing 1 required positional argument: 'self'\")"
      ]
     },
     "execution_count": 86,
     "metadata": {},
     "output_type": "execute_result"
    },
    {
     "name": "stdout",
     "output_type": "stream",
     "text": [
      "self   :  1\n",
      "args   :  (2,)\n",
      "kwargs :  {'a': 3, 'b': 4}\n"
     ]
    }
   ],
   "source": [
    "# partOne: inst only\n",
    "\n",
    "# same as usual ( 1,2 for arg | 3,4 for kwargs )\n",
    "hi.some_instmethod(1, 2, a=3, b=4)         \n",
    "\n",
    "\n",
    "try:\n",
    "    Greet.some_instmethod()                # ya need the `self`\n",
    "\n",
    "except Exception as err:\n",
    "    err\n",
    "    \n",
    "finally:\n",
    "    Greet.some_instmethod(1, 2, a=3, b=4)  # '1' as `self` (incorrectly!!)"
   ]
  },
  {
   "cell_type": "code",
   "execution_count": 87,
   "metadata": {},
   "outputs": [
    {
     "name": "stdout",
     "output_type": "stream",
     "text": [
      "cls    :  <class '__main__.Greet'>\n",
      "args   :  (1, 2)\n",
      "kwargs :  {'a': 3, 'b': 4}\n",
      "\n",
      "cls    :  <class '__main__.Greet'>\n",
      "args   :  ()\n",
      "kwargs :  {}\n",
      "\n",
      "cls    :  <class '__main__.Greet'>\n",
      "args   :  (1, 2)\n",
      "kwargs :  {'a': 3, 'b': 4}\n"
     ]
    }
   ],
   "source": [
    "# partTwo: cls only \n",
    "\n",
    "hi.some_clsmethod(1, 2, a=3, b=4)\n",
    "\n",
    "print(); Greet.some_clsmethod()                # `None`, but no error :)\n",
    "print(); Greet.some_clsmethod(1, 2, a=3, b=4)  # same as usual (correctly)"
   ]
  },
  {
   "cell_type": "code",
   "execution_count": 88,
   "metadata": {
    "scrolled": true
   },
   "outputs": [
    {
     "name": "stdout",
     "output_type": "stream",
     "text": [
      "args   :  (2,)\n",
      "kwargs :  {'a': 3, 'b': 4}\n"
     ]
    },
    {
     "data": {
      "text/plain": [
       "TypeError(\"some_statmethod() missing 1 required positional argument: 'self'\")"
      ]
     },
     "execution_count": 88,
     "metadata": {},
     "output_type": "execute_result"
    },
    {
     "name": "stdout",
     "output_type": "stream",
     "text": [
      "args   :  (2,)\n",
      "kwargs :  {'a': 3, 'b': 4}\n"
     ]
    }
   ],
   "source": [
    "# partThr: static only \n",
    "\n",
    "hi.some_statmethod(1, 2, a=3, b=4)\n",
    "\n",
    "\n",
    "try:\n",
    "    Greet.some_statmethod()\n",
    "    \n",
    "except Exception as err:\n",
    "    err\n",
    "    \n",
    "finally:\n",
    "    Greet.some_statmethod(1, 2, a=3, b=4)"
   ]
  },
  {
   "cell_type": "markdown",
   "metadata": {},
   "source": [
    "0x07 -  decorating ***class functions***\" using ```descriptor```"
   ]
  },
  {
   "cell_type": "code",
   "execution_count": 89,
   "metadata": {
    "code_folding": []
   },
   "outputs": [
    {
     "data": {
      "text/plain": [
       "(2, '->', 7)"
      ]
     },
     "execution_count": 89,
     "metadata": {},
     "output_type": "execute_result"
    },
    {
     "data": {
      "text/plain": [
       "(6, '->', 11)"
      ]
     },
     "execution_count": 89,
     "metadata": {},
     "output_type": "execute_result"
    }
   ],
   "source": [
    "class MoreSpam(object):\n",
    "    \n",
    "    def __init__(self, more=1):\n",
    "        self.more = more \n",
    "        \n",
    "    def __get__(self, inst, cls):\n",
    "        return self.more + inst.spam\n",
    "    \n",
    "    def __set__(self, inst, val):\n",
    "        inst.spam = val - self.more \n",
    "        \n",
    "class Spam(object):\n",
    "    \n",
    "    more_spam = MoreSpam(5)\n",
    "    \n",
    "    def __init__(self, spam):\n",
    "        self.spam = spam  \n",
    "        \n",
    "\n",
    "e = Spam(2)\n",
    "\n",
    "e.spam, '->', e.more_spam\n",
    "\n",
    "e.more_spam = 11\n",
    "\n",
    "e.spam, '->', e.more_spam"
   ]
  },
  {
   "cell_type": "markdown",
   "metadata": {},
   "source": [
    "0x08 - more about \"decorating ***class functions***\""
   ]
  },
  {
   "cell_type": "code",
   "execution_count": 90,
   "metadata": {},
   "outputs": [],
   "source": [
    "class ClassMethod(object):\n",
    "    \n",
    "    def __init__(self, method):\n",
    "        self.method = method\n",
    "        \n",
    "    def __get__(self, inst, cls):\n",
    "        \n",
    "        @wraps(self.method)\n",
    "        def method(*args, **kwargs):\n",
    "            return self.method(cls, *args, **kwargs)\n",
    "        \n",
    "        return method\n",
    "    \n",
    "    \n",
    "class StaticMethod(object):\n",
    "    \n",
    "    def __init__(self, method):\n",
    "        self.method = method\n",
    "        \n",
    "    def __get__(self, inst, cls):\n",
    "        return self.method"
   ]
  },
  {
   "cell_type": "markdown",
   "metadata": {},
   "source": [
    "0x09 - ```property```"
   ]
  },
  {
   "cell_type": "code",
   "execution_count": 91,
   "metadata": {},
   "outputs": [],
   "source": [
    "class GreetOne(object):\n",
    "    ''' one way for using `property` decorator '''\n",
    "    \n",
    "    def get_amount(self):\n",
    "        print('gettin amount')\n",
    "        return self._amount\n",
    "    \n",
    "    def set_amount(self, amount):\n",
    "        print(f'setting amount to {amount}')\n",
    "        self._amount = amount\n",
    "        \n",
    "    def del_amount(self):\n",
    "        print('deletin amount')\n",
    "        del self._amount\n",
    "        \n",
    "    amount = property(get_amount, set_amount, del_amount)\n",
    "    \n",
    "\n",
    "class GreetTwo(object):\n",
    "    ''' the other way using `property` decorator '''\n",
    "    \n",
    "    @property\n",
    "    def amount(self):\n",
    "        print('gettin amount')\n",
    "        return self._amount\n",
    "    \n",
    "    @amount.setter\n",
    "    def amount(self, amount):\n",
    "        print(f'settin amount to {amount}')\n",
    "        self._amount = amount\n",
    "        \n",
    "    @amount.deleter\n",
    "    def amount(self):\n",
    "        print('deletin amount')"
   ]
  },
  {
   "cell_type": "code",
   "execution_count": 92,
   "metadata": {},
   "outputs": [
    {
     "name": "stdout",
     "output_type": "stream",
     "text": [
      "setting amount to 5\n",
      "gettin amount\n",
      "deletin amount\n",
      "\n",
      "settin amount to 10\n",
      "gettin amount\n",
      "deletin amount\n"
     ]
    }
   ],
   "source": [
    "def hi_one():\n",
    "\n",
    "    hi = GreetOne()\n",
    "    \n",
    "    hi.amount = 5\n",
    "    hi.amount\n",
    "    \n",
    "    del hi.amount\n",
    "    \n",
    "def hi_two():\n",
    "    \n",
    "    hi = GreetTwo()\n",
    "    \n",
    "    hi.amount = 10\n",
    "    hi.amount \n",
    "    \n",
    "    del hi.amount\n",
    "    \n",
    "     \n",
    "hi_one(); print()\n",
    "hi_two()"
   ]
  },
  {
   "cell_type": "markdown",
   "metadata": {},
   "source": [
    "0x10 - implementation of ```property``` (roughly)"
   ]
  },
  {
   "cell_type": "code",
   "execution_count": 93,
   "metadata": {},
   "outputs": [],
   "source": [
    "# the implementation of `Property`  (well, by author)\n",
    "\n",
    "\n",
    "class Property(object):\n",
    "    ''' TODO: understand this XD '''\n",
    "\n",
    "    def __init__(self, fget=None, fset=None, fdel=None, doc=None):\n",
    "        self.fget = fget\n",
    "        self.fset = fset\n",
    "        self.fdel = fdel\n",
    "\n",
    "        if fget and not doc:\n",
    "            doc = fget.__doc__\n",
    "\n",
    "        self.__doc__ = doc\n",
    "\n",
    "    def __get__(self, inst, cls):\n",
    "        if inst is None:\n",
    "            return self\n",
    "        elif self.fget:\n",
    "            return self.fget(inst)\n",
    "        else:\n",
    "            raise AttributeError('unreadale attr')\n",
    "\n",
    "    def __set__(self, inst, val):\n",
    "        if self.fset:\n",
    "            self.fset(inst, val)\n",
    "        else:\n",
    "            raise AttributeError('cannot set attr')\n",
    "\n",
    "    def __delete__(self, inst):\n",
    "        if self.fdel:\n",
    "            self.fdel(inst)\n",
    "        else:\n",
    "            raise AttributeError('cannot del attr')\n",
    "\n",
    "    def getter(self, fget):\n",
    "        return type(self)(\n",
    "            fget,\n",
    "            self.fset,\n",
    "            self.fdel\n",
    "        )\n",
    "\n",
    "    def setter(self, fget):\n",
    "        return type(self)(\n",
    "            self.fget,\n",
    "            fset,\n",
    "            self.fdel\n",
    "        )\n",
    "\n",
    "    def deleter(self, fget):\n",
    "        return type(self)(\n",
    "            self.fget,\n",
    "            self.fset,\n",
    "            fdel\n",
    "        )"
   ]
  },
  {
   "cell_type": "markdown",
   "metadata": {},
   "source": [
    "0x11 - the ```__getattr__``` & else"
   ]
  },
  {
   "cell_type": "code",
   "execution_count": 94,
   "metadata": {},
   "outputs": [
    {
     "name": "stdout",
     "output_type": "stream",
     "text": [
      "gettin 'a'\n"
     ]
    },
    {
     "data": {
      "text/plain": [
       "'Undefined'"
      ]
     },
     "execution_count": 94,
     "metadata": {},
     "output_type": "execute_result"
    },
    {
     "name": "stdout",
     "output_type": "stream",
     "text": [
      "settin 'a' to 1\n",
      "gettin 'a'\n"
     ]
    },
    {
     "data": {
      "text/plain": [
       "1"
      ]
     },
     "execution_count": 94,
     "metadata": {},
     "output_type": "execute_result"
    },
    {
     "name": "stdout",
     "output_type": "stream",
     "text": [
      "deletin 'a'\n"
     ]
    }
   ],
   "source": [
    "class Spam(object):\n",
    "    \n",
    "    def __init__(self):\n",
    "        self.registry = {}\n",
    "        \n",
    "    def __getattr__(self, key):\n",
    "        print(f'gettin {key!r}')\n",
    "        return self.registry.get(key, 'Undefined')\n",
    "    \n",
    "    def __setattr__(self, key, val):\n",
    "        if key == 'registry':\n",
    "            object.__setattr__(self, key, val)\n",
    "        else:\n",
    "            print(f'settin {key!r} to {val!r}')\n",
    "            self.registry[key] = val \n",
    "            \n",
    "    def __delattr__(self, key):\n",
    "        print(f'deletin {key!r}') \n",
    "        \n",
    "\n",
    "sp = Spam() \n",
    "\n",
    "sp.a    \n",
    "sp.a = 1  \n",
    "sp.a \n",
    "\n",
    "del sp.a "
   ]
  },
  {
   "cell_type": "markdown",
   "metadata": {},
   "source": [
    "0x12 - decorating ***classes***"
   ]
  },
  {
   "cell_type": "code",
   "execution_count": 95,
   "metadata": {
    "code_folding": [
     5
    ]
   },
   "outputs": [],
   "source": [
    "def singleton(cls):\n",
    "\n",
    "    inst = dict()\n",
    "\n",
    "    @wraps(cls)\n",
    "    def _singleton(*args, **kwargs):\n",
    "\n",
    "        if cls not in inst:\n",
    "            inst[cls] = cls(*args, **kwargs)\n",
    "\n",
    "        return inst[cls]\n",
    "    return _singleton\n",
    "\n",
    "\n",
    "@singleton\n",
    "class Spam(object):\n",
    "    def __init__(self):\n",
    "        print('Excuting init...')"
   ]
  },
  {
   "cell_type": "code",
   "execution_count": 96,
   "metadata": {},
   "outputs": [
    {
     "name": "stdout",
     "output_type": "stream",
     "text": [
      "Excuting init...\n"
     ]
    },
    {
     "data": {
      "text/plain": [
       "True"
      ]
     },
     "execution_count": 96,
     "metadata": {},
     "output_type": "execute_result"
    },
    {
     "data": {
      "text/plain": [
       "10"
      ]
     },
     "execution_count": 96,
     "metadata": {},
     "output_type": "execute_result"
    },
    {
     "data": {
      "text/plain": [
       "__main__.Spam"
      ]
     },
     "execution_count": 96,
     "metadata": {},
     "output_type": "execute_result"
    }
   ],
   "source": [
    "a = Spam() \n",
    "b = Spam()\n",
    "\n",
    "a is b     # same object (truly)\n",
    "\n",
    "a.ss = 10  # b also equals to 10\n",
    "b.ss\n",
    "\n",
    "Spam.__wrapped__"
   ]
  },
  {
   "cell_type": "markdown",
   "metadata": {},
   "source": [
    "0x13 - total **ordering** (for class)"
   ]
  },
  {
   "cell_type": "code",
   "execution_count": 97,
   "metadata": {},
   "outputs": [],
   "source": [
    "class Value(object):\n",
    "    ''' bases of all examples '''\n",
    "    \n",
    "    def __init__(self, val):\n",
    "        self.val = val \n",
    "        \n",
    "    def __repr__(self):\n",
    "        return f'--- {self.__class__}[{self.val}] ---'\n",
    "    \n",
    "    \n",
    "# method One: regular ways \n",
    "\n",
    "class Spam(Value):\n",
    "    \n",
    "    def __gt__(self, other):\n",
    "        return self.val > other.val  \n",
    "    \n",
    "    def __ge__(self, other):\n",
    "        return self.val >= other.val   \n",
    "    \n",
    "    def __lt__(self, other):\n",
    "        return self.val < other.val   \n",
    "    \n",
    "    def __le__(self, other):\n",
    "        return self.val <= other.val   \n",
    "    \n",
    "    def __eq__(self, other):\n",
    "        return self.val == other.val \n",
    "    \n",
    "    \n",
    "# method Two: `total_ordering` ways \n",
    "\n",
    "@total_ordering\n",
    "class Eggs(Value):\n",
    "    def __lt__(self, other):\n",
    "        return self.val < other.val \n",
    "    \n",
    "    def __eq__(self, other):\n",
    "        return self.val == other.val"
   ]
  },
  {
   "cell_type": "code",
   "execution_count": 98,
   "metadata": {},
   "outputs": [
    {
     "data": {
      "text/plain": [
       "[--- <class '__main__.Spam'>[4] ---,\n",
       " --- <class '__main__.Spam'>[1] ---,\n",
       " --- <class '__main__.Spam'>[3] ---,\n",
       " --- <class '__main__.Spam'>[2] ---]"
      ]
     },
     "execution_count": 98,
     "metadata": {},
     "output_type": "execute_result"
    },
    {
     "data": {
      "text/plain": [
       "[--- <class '__main__.Eggs'>[4] ---,\n",
       " --- <class '__main__.Eggs'>[1] ---,\n",
       " --- <class '__main__.Eggs'>[3] ---,\n",
       " --- <class '__main__.Eggs'>[2] ---]"
      ]
     },
     "execution_count": 98,
     "metadata": {},
     "output_type": "execute_result"
    },
    {
     "data": {
      "text/plain": [
       "[--- <class '__main__.Spam'>[1] ---,\n",
       " --- <class '__main__.Spam'>[2] ---,\n",
       " --- <class '__main__.Spam'>[3] ---,\n",
       " --- <class '__main__.Spam'>[4] ---]"
      ]
     },
     "execution_count": 98,
     "metadata": {},
     "output_type": "execute_result"
    },
    {
     "data": {
      "text/plain": [
       "[--- <class '__main__.Eggs'>[1] ---,\n",
       " --- <class '__main__.Eggs'>[2] ---,\n",
       " --- <class '__main__.Eggs'>[3] ---,\n",
       " --- <class '__main__.Eggs'>[4] ---]"
      ]
     },
     "execution_count": 98,
     "metadata": {},
     "output_type": "execute_result"
    }
   ],
   "source": [
    "# example: \n",
    "\n",
    "nums = [4, 1, 3, 2]\n",
    "\n",
    "spam = [ Spam(n) for n in nums ]\n",
    "eggs = [ Eggs(n) for n in nums ]\n",
    "\n",
    "\n",
    "spam\n",
    "eggs \n",
    "\n",
    "sorted(spam)\n",
    "sorted(eggs)"
   ]
  },
  {
   "cell_type": "code",
   "execution_count": 99,
   "metadata": {},
   "outputs": [
    {
     "data": {
      "text/plain": [
       "[--- <class '__main__.Value'>[4] ---,\n",
       " --- <class '__main__.Value'>[1] ---,\n",
       " --- <class '__main__.Value'>[3] ---,\n",
       " --- <class '__main__.Value'>[2] ---]"
      ]
     },
     "execution_count": 99,
     "metadata": {},
     "output_type": "execute_result"
    },
    {
     "data": {
      "text/plain": [
       "[--- <class '__main__.Value'>[1] ---,\n",
       " --- <class '__main__.Value'>[2] ---,\n",
       " --- <class '__main__.Value'>[3] ---,\n",
       " --- <class '__main__.Value'>[4] ---]"
      ]
     },
     "execution_count": 99,
     "metadata": {},
     "output_type": "execute_result"
    }
   ],
   "source": [
    "# example: sort by key \n",
    "\n",
    "val = [Value(n) for n in nums]\n",
    "val \n",
    "\n",
    "sorted(val, key=lambda v: v.val)"
   ]
  },
  {
   "cell_type": "markdown",
   "metadata": {},
   "source": [
    "0x14 - DIY a decorator which '***make class sortable by specific key***'"
   ]
  },
  {
   "cell_type": "code",
   "execution_count": 100,
   "metadata": {},
   "outputs": [],
   "source": [
    "class Value(object):\n",
    "    ''' base class we're gonna use '''\n",
    "    \n",
    "    def __init__(self, val):\n",
    "        self.val = val \n",
    "    \n",
    "    def __repr__(self):\n",
    "        return f'--- {self.__class__}[{self.val}] ---'\n",
    "    \n",
    "    \n",
    "def sort_by_attr(attr, keyfunc=getattr):\n",
    "    ''' the decorator! '''\n",
    "    \n",
    "    def _sort_by_attr(cls):\n",
    "        \n",
    "        def __gt__(self, other):\n",
    "            return getattr(self, attr) > getattr(other, attr)\n",
    "        \n",
    "        def __ge__(self, other):\n",
    "            return getattr(self, attr) >= getattr(other, attr)    \n",
    "    \n",
    "        def __lt__(self, other):\n",
    "            return getattr(self, attr) < getattr(other, attr)\n",
    "\n",
    "        def __le__(self, other):\n",
    "            return getattr(self, attr) <= getattr(other, attr)\n",
    "\n",
    "        def __eq__(self, other):\n",
    "            return getattr(self, attr) == getattr(other, attr)\n",
    "        \n",
    "        \n",
    "        cls.__gt__ = __gt__\n",
    "        cls.__ge__ = __ge__\n",
    "        cls.__lt__ = __lt__\n",
    "        cls.__le__ = __le__\n",
    "        cls.__eq__ = __eq__\n",
    "        \n",
    "        \n",
    "        return cls \n",
    "    \n",
    "    return _sort_by_attr"
   ]
  },
  {
   "cell_type": "code",
   "execution_count": 101,
   "metadata": {
    "scrolled": true
   },
   "outputs": [
    {
     "data": {
      "text/plain": [
       "[--- <class '__main__.Spam'>[2] ---,\n",
       " --- <class '__main__.Spam'>[2] ---,\n",
       " --- <class '__main__.Spam'>[3] ---,\n",
       " --- <class '__main__.Spam'>[4] ---]"
      ]
     },
     "execution_count": 101,
     "metadata": {},
     "output_type": "execute_result"
    }
   ],
   "source": [
    "# example: showing how it works \n",
    "\n",
    "nums = [4, 2, 3, 2]\n",
    "\n",
    "\n",
    "@sort_by_attr('val')\n",
    "class Spam(Value):\n",
    "    pass \n",
    "\n",
    "\n",
    "spams = [ Spam(n) for n in nums ]\n",
    "\n",
    "sorted(spams)"
   ]
  },
  {
   "cell_type": "markdown",
   "metadata": {},
   "source": [
    "<hr>\n",
    "\n",
    "Now the ***advance part begins***.\n",
    "\n",
    "<hr>"
   ]
  },
  {
   "cell_type": "markdown",
   "metadata": {},
   "source": [
    "0x01 - *Polymorphism* <small>(多态)</small> in Python\n",
    "- single dispatch pattern ( *I dunno what does that mean* )"
   ]
  },
  {
   "cell_type": "code",
   "execution_count": 102,
   "metadata": {},
   "outputs": [],
   "source": [
    "# example: different data => different result (well, Polymorphism)\n",
    "\n",
    "from functools import singledispatch\n",
    "\n",
    "\n",
    "@singledispatch\n",
    "def printer(val):\n",
    "    ''' don't touch this (original) function '''\n",
    "    \n",
    "    print('else\\t---- {!r}'.format(val))\n",
    "\n",
    "    \n",
    "@printer.register(str)\n",
    "def str_printer(val):\n",
    "    \n",
    "    print('str\\t---- {}'.format(val))\n",
    "\n",
    "    \n",
    "@printer.register(int)\n",
    "def int_printer(val):\n",
    "    \n",
    "    print('int\\t---- {:d}'.format(val))\n",
    "\n",
    "    \n",
    "@printer.register(dict)\n",
    "def dict_printer(val):\n",
    "    \n",
    "    for k, v in sorted(val.items()):\n",
    "        print(f'dict\\t---- key: {k!r}, value: {v!r}') "
   ]
  },
  {
   "cell_type": "code",
   "execution_count": 103,
   "metadata": {},
   "outputs": [
    {
     "name": "stdout",
     "output_type": "stream",
     "text": [
      "else\t---- ['this', 'is', 'fun']\n",
      "str\t---- hell yeah\n",
      "int\t---- 666\n",
      "dict\t---- key: 'hmm', value: 'I agree'\n"
     ]
    }
   ],
   "source": [
    "# nice! XD\n",
    "\n",
    "printer(['this', 'is', 'fun'])\n",
    "\n",
    "printer('hell yeah')\n",
    "\n",
    "printer(666)\n",
    "\n",
    "printer({'hmm':'I agree'})"
   ]
  },
  {
   "cell_type": "code",
   "execution_count": 104,
   "metadata": {},
   "outputs": [],
   "source": [
    "# example: play with filename & file handler\n",
    "\n",
    "import json \n",
    "from functools import singledispatch\n",
    "\n",
    "\n",
    "@singledispatch  \n",
    "def write_as_json(file, data):\n",
    "    json.dump(data, file)\n",
    "    \n",
    "@write_as_json.register(str)\n",
    "@write_as_json.register(bytes)\n",
    "def write_as_json_filename(file, data):\n",
    "    \n",
    "    with open(file, 'w') as fh:\n",
    "        write_as_json(fh, data)"
   ]
  },
  {
   "cell_type": "code",
   "execution_count": 105,
   "metadata": {},
   "outputs": [
    {
     "name": "stdout",
     "output_type": "stream",
     "text": [
      "total 1280\n",
      "-rwxrwxrwx@ 1 alex  staff  24 Aug  9 23:04 \u001b[31mtest_01.json\u001b[m\u001b[m\n",
      "-rwxrwxrwx@ 1 alex  staff  24 Aug  9 23:04 \u001b[31mtest_02.json\u001b[m\u001b[m\n",
      "-rwxrwxrwx@ 1 alex  staff  24 Aug  9 23:04 \u001b[31mtest_03.json\u001b[m\u001b[m\n",
      "-rwxrwxrwx  1 alex  staff  19 Aug  9 22:39 \u001b[31mtest_context_01.txt\u001b[m\u001b[m\n",
      "-rwxrwxrwx  1 alex  staff  28 Aug  9 22:39 \u001b[31mtest_context_02.txt\u001b[m\u001b[m\n",
      "\n",
      "\n",
      "<class 'object'>\n",
      "\t<function write_as_json at 0x10f146e18>\n",
      "<class 'bytes'>\n",
      "\t<function write_as_json_filename at 0x10efd9048>\n",
      "<class 'str'>\n",
      "\t<function write_as_json_filename at 0x10efd9048>\n"
     ]
    }
   ],
   "source": [
    "data = dict(a=1, b=2, c=3)\n",
    "\n",
    "write_as_json('./src/test_01.json', data)\n",
    "\n",
    "write_as_json(b'./src/test_02.json', data)\n",
    "\n",
    "with open('./src/test_03.json', 'w') as fh:\n",
    "    write_as_json(fh, data)\n",
    "    \n",
    "# check the file \n",
    "!ls -l src\n",
    "!echo \"\\n\"\n",
    "\n",
    "# check the registered types \n",
    "for i, j in write_as_json.registry.items():\n",
    "    print(f'{i}\\n\\t{j}')"
   ]
  },
  {
   "cell_type": "markdown",
   "metadata": {},
   "source": [
    "0x02 - let's talk about '*contextlib*' module"
   ]
  },
  {
   "cell_type": "code",
   "execution_count": 106,
   "metadata": {},
   "outputs": [],
   "source": [
    "import contextlib\n",
    "\n",
    "# example: build our own context manager (`open`)\n",
    "#   (well, in this case, suppose we don't have the `with open` stuff!)\n",
    "\n",
    "@contextlib.contextmanager\n",
    "def open_cont_manager(filename, mode='r'):\n",
    "    \n",
    "    fh = open(filename, mode)\n",
    "    \n",
    "    yield fh \n",
    "    fh.close()"
   ]
  },
  {
   "cell_type": "code",
   "execution_count": 107,
   "metadata": {},
   "outputs": [
    {
     "name": "stdout",
     "output_type": "stream",
     "text": [
      "-rwxrwxrwx  1 alex  staff  19 Aug  9 23:04 \u001b[31m./src/test_context_01.txt\u001b[m\u001b[m\r\n",
      "-rwxrwxrwx  1 alex  staff  28 Aug  9 23:04 \u001b[31m./src/test_context_02.txt\u001b[m\u001b[m\r\n"
     ]
    }
   ],
   "source": [
    "# simple XD\n",
    "with open_cont_manager('./src/test_context_01.txt', 'w') as fh:\n",
    "    print('contextlib is fun!', file=fh)\n",
    "    \n",
    "    \n",
    "# yet another one \n",
    "with contextlib.closing(open('./src/test_context_02.txt', 'w')) as fh:\n",
    "    print('well, this is gonna be fun!', file=fh)\n",
    "    \n",
    "\n",
    "!ls -l ./src/*context*"
   ]
  },
  {
   "cell_type": "code",
   "execution_count": 108,
   "metadata": {},
   "outputs": [
    {
     "name": "stdout",
     "output_type": "stream",
     "text": [
      "Debugging Start 'hello'\n",
      "I'm in `hello()`\n",
      "Debugging End   'hello'\n"
     ]
    }
   ],
   "source": [
    "# example: use contextlib in other fields (more practical)\n",
    "\n",
    "well = '''\n",
    "    for file         ---- there's already a `with open`. \n",
    "    for some objects ---- don't support automatic closing (e.g. urllib)\n",
    "'''\n",
    "\n",
    "@contextlib.contextmanager\n",
    "def debug(name):\n",
    "    print(f'Debugging Start {name!r}')\n",
    "    yield \n",
    "    print(f'Debugging End   {name!r}')\n",
    "    \n",
    "\n",
    "@debug('hello')\n",
    "def hello():\n",
    "    print(\"I'm in `hello()`\")\n",
    "    \n",
    "hello()"
   ]
  },
  {
   "cell_type": "markdown",
   "metadata": {},
   "source": [
    "0x03 - *validation*, *type check*, and *conv* ..."
   ]
  },
  {
   "cell_type": "code",
   "execution_count": 109,
   "metadata": {},
   "outputs": [
    {
     "name": "stdout",
     "output_type": "stream",
     "text": [
      "hi hi hi hi hi \n"
     ]
    }
   ],
   "source": [
    "# example: type hinting \n",
    "\n",
    "def sayhi(amount: int):    # right here!\n",
    "    print('hi ' * amount)  \n",
    "    \n",
    "sayhi(5)"
   ]
  },
  {
   "cell_type": "code",
   "execution_count": 110,
   "metadata": {},
   "outputs": [],
   "source": [
    "# example: type check & conv \n",
    "\n",
    "import inspect\n",
    "from functools import wraps \n",
    "\n",
    "\n",
    "def to_int(name, mini=None, maxi=None):\n",
    "    \n",
    "    def _to_int(func):\n",
    "        \n",
    "        signature = inspect.signature(func)\n",
    "        \n",
    "        @wraps(func, ['__signature__'])\n",
    "        @wraps(func)\n",
    "        def __to_int(*args, **kwargs):\n",
    "            \n",
    "            bound   = signature.bind(*args, **kwargs)\n",
    "            \n",
    "            default = signature.parameters[name].default\n",
    "            val     = int(bound.arguments.get(name, default))\n",
    "            \n",
    "            \n",
    "            if mini is not None:\n",
    "                \n",
    "                assert val >= mini, (\n",
    "                    f'{name} should be at least {mini!r}, got: {val!r}'\n",
    "                )\n",
    "                \n",
    "            if maxi is not None:\n",
    "                \n",
    "                assert val <= maxi, (\n",
    "                    f'{name} should be at most  {mini!r}, got: {val!r}'\n",
    "                )\n",
    "                \n",
    "            return func(*args, **kwargs)\n",
    "        \n",
    "        return __to_int\n",
    "    return _to_int"
   ]
  },
  {
   "cell_type": "code",
   "execution_count": 111,
   "metadata": {},
   "outputs": [
    {
     "name": "stdout",
     "output_type": "stream",
     "text": [
      "a 10\n",
      "b 0\n",
      "c 10\n",
      "\n",
      "a 20\n",
      "b 10\n",
      "c 10\n",
      "\n"
     ]
    },
    {
     "data": {
      "text/plain": [
       "AssertionError('a should be at least 10, got: 1')"
      ]
     },
     "execution_count": 111,
     "metadata": {},
     "output_type": "execute_result"
    },
    {
     "data": {
      "text/plain": [
       "TypeError(\"missing a required argument: 'a'\")"
      ]
     },
     "execution_count": 111,
     "metadata": {},
     "output_type": "execute_result"
    },
    {
     "data": {
      "text/plain": [
       "ValueError(\"invalid literal for int() with base 10: 'what'\")"
      ]
     },
     "execution_count": 111,
     "metadata": {},
     "output_type": "execute_result"
    }
   ],
   "source": [
    "@to_int('a', mini=10)\n",
    "@to_int('b', maxi=10)\n",
    "@to_int('c')\n",
    "\n",
    "def foo(a, b, c=10):\n",
    "    \n",
    "    print('a', a)\n",
    "    print('b', b)\n",
    "    print('c', c)\n",
    "    \n",
    "    \n",
    "foo(10,   b=0)  ; print()\n",
    "foo(a=20, b=10) ; print()\n",
    "\n",
    "\n",
    "try:\n",
    "    foo(1, 2, 3)                  # limitations ( by our 'mini | maxi' )\n",
    "except AssertionError as err:\n",
    "    err\n",
    "    \n",
    "    try:\n",
    "        foo()                     # no default value ( well, should be )\n",
    "    except TypeError as err:\n",
    "        err\n",
    "        \n",
    "        try:\n",
    "            foo('what', {})       # not convertable ( there's `int()` )\n",
    "        except ValueError as err:  \n",
    "            err"
   ]
  },
  {
   "cell_type": "code",
   "execution_count": 112,
   "metadata": {},
   "outputs": [],
   "source": [
    "# example: type check & conv (not using `inspect`)\n",
    "\n",
    "from functools import wraps \n",
    "\n",
    "def to_integer(name, mini=None, maxi=None):\n",
    "    ''' this won't be as good as the previous `to_int()` decorator! '''\n",
    "    \n",
    "    def _to_integer(func): \n",
    "        \n",
    "        @wraps(func) \n",
    "        def __to_integer(**kwargs):\n",
    "            val = int(kwargs.get(name))\n",
    "            \n",
    "            if mini is not None:\n",
    "                \n",
    "                assert val >= mini, (\n",
    "                    f'{name} should at at least {mini!r}, got: {val!r}'\n",
    "                )\n",
    "                \n",
    "            if maxi is not None:\n",
    "                \n",
    "                assert val <= maxi, (\n",
    "                    f'{name} should be at most  {maxi!r}, got: {val!r}'\n",
    "                ) \n",
    "                \n",
    "            return func(**kwargs)\n",
    "        \n",
    "        return __to_integer\n",
    "    return _to_integer"
   ]
  },
  {
   "cell_type": "code",
   "execution_count": 113,
   "metadata": {},
   "outputs": [
    {
     "name": "stdout",
     "output_type": "stream",
     "text": [
      "a 20\n",
      "b 10\n"
     ]
    },
    {
     "data": {
      "text/plain": [
       "AssertionError('a should at at least 10, got: 1')"
      ]
     },
     "execution_count": 113,
     "metadata": {},
     "output_type": "execute_result"
    }
   ],
   "source": [
    "@to_integer('a', mini=10)\n",
    "@to_integer('b', maxi=10)\n",
    "def bar(a, b):\n",
    "    print('a', a)\n",
    "    print('b', b)\n",
    "    \n",
    "    \n",
    "bar(a=20, b=10)\n",
    "\n",
    "try:\n",
    "    bar(a=1, b=10)             # 1 < 10 (mini)\n",
    "except AssertionError as err:\n",
    "    err "
   ]
  },
  {
   "cell_type": "markdown",
   "metadata": {},
   "source": [
    "0x04 - ignore useless warnings"
   ]
  },
  {
   "cell_type": "code",
   "execution_count": 114,
   "metadata": {},
   "outputs": [],
   "source": [
    "from functools import wraps\n",
    "import warnings  \n",
    "\n",
    "\n",
    "def ign_warning(warning, count=None):\n",
    "    \n",
    "    def _ign_warning(func): \n",
    "        \n",
    "        @wraps(func)\n",
    "        def __ign_warning(*args, **kwargs):\n",
    "            \n",
    "            with warnings.catch_warnings(record=True) as ws:\n",
    "                \n",
    "                warnings.simplefilter('always', warning)\n",
    "                \n",
    "                result = func(*args, **kwargs)\n",
    "                \n",
    "            \n",
    "            if count is not None:\n",
    "                \n",
    "                for w in ws[count:]:\n",
    "                    \n",
    "                    warnings.showwarning(\n",
    "                        message  = w.message,\n",
    "                        category = w.category,\n",
    "                        filename = w.filename,\n",
    "                        lineno   = w.lineno,\n",
    "                        file     = w.file,\n",
    "                        line     = w.line,\n",
    "                    )\n",
    "            \n",
    "            return result\n",
    "        \n",
    "        return __ign_warning\n",
    "    return _ign_warning"
   ]
  },
  {
   "cell_type": "code",
   "execution_count": 115,
   "metadata": {},
   "outputs": [
    {
     "name": "stderr",
     "output_type": "stream",
     "text": [
      "/Volumes/exFAT_Two/env_datascience/env/lib/python3.6/site-packages/ipykernel_launcher.py:4: DeprecationWarning: \n",
      "\n",
      " catch me~~ (002)\n",
      "\n",
      "\n",
      "  after removing the cwd from sys.path.\n",
      "/Volumes/exFAT_Two/env_datascience/env/lib/python3.6/site-packages/ipykernel_launcher.py:5: DeprecationWarning: \n",
      "\n",
      " you got me (003)\n",
      "\n",
      "\n",
      "  \"\"\"\n"
     ]
    }
   ],
   "source": [
    "@ign_warning(DeprecationWarning, count=1)\n",
    "def spam():\n",
    "    warnings.warn('\\n u are weeeeeak (001)\\n', DeprecationWarning)\n",
    "    warnings.warn('\\n\\n catch me~~ (002)\\n\\n', DeprecationWarning)   \n",
    "    warnings.warn('\\n\\n you got me (003)\\n\\n', DeprecationWarning)    \n",
    "\n",
    "spam()"
   ]
  },
  {
   "cell_type": "markdown",
   "metadata": {},
   "source": [
    "<hr>\n",
    "\n",
    "***The end***.\n",
    "\n",
    "<hr>"
   ]
  }
 ],
 "metadata": {
  "kernelspec": {
   "display_name": "Python 3",
   "language": "python",
   "name": "python3"
  },
  "language_info": {
   "codemirror_mode": {
    "name": "ipython",
    "version": 3
   },
   "file_extension": ".py",
   "mimetype": "text/x-python",
   "name": "python",
   "nbconvert_exporter": "python",
   "pygments_lexer": "ipython3",
   "version": "3.6.5"
  }
 },
 "nbformat": 4,
 "nbformat_minor": 2
}
