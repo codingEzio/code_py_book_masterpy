{
 "cells": [
  {
   "cell_type": "markdown",
   "metadata": {},
   "source": [
    "covered topics \n",
    "- *asyncio* lib\n",
    "- *future* lib\n",
    "- parallel execution\n",
    "- server | client"
   ]
  },
  {
   "cell_type": "markdown",
   "metadata": {},
   "source": [
    "foreword\n",
    "- There's an ***asyncore*** module (since Python 1.5).\n",
    "- Third-party libraries: ***gevent***, ***eventlet*** etc.\n",
    "- The ***asyncio*** was introduced for Python **3.4**, \"*big*\" syntax change in **3.5**.\n",
    "\n",
    "also \n",
    "- Some code will be stored in the ```.py``` file<br>cuz there's some code will *kill* the jupyter kernel and ***executed incorrectly***.\n",
    "\n",
    "links \n",
    "- Third party libraries: [link](https://github.com/python/asyncio/wiki/ThirdParty)"
   ]
  },
  {
   "cell_type": "markdown",
   "metadata": {},
   "source": [
    "### 0x01 - Difference"
   ]
  },
  {
   "cell_type": "code",
   "execution_count": 1,
   "metadata": {},
   "outputs": [],
   "source": [
    "import asyncio"
   ]
  },
  {
   "cell_type": "code",
   "execution_count": 2,
   "metadata": {},
   "outputs": [],
   "source": [
    "# Python 3.4 \n",
    "\n",
    "@asyncio.coroutine\n",
    "def sleeper():\n",
    "    yield from asyncio.sleep(1)"
   ]
  },
  {
   "cell_type": "markdown",
   "metadata": {},
   "source": [
    "about new syntax \n",
    "- TODO Add reading notes."
   ]
  },
  {
   "cell_type": "markdown",
   "metadata": {},
   "source": [
    "thing u may wanna convert to\n",
    "- ```async def```, ```await ASYNC_RESULT```\n",
    "- ```async for .. in```\n",
    "- ```async with```"
   ]
  },
  {
   "cell_type": "code",
   "execution_count": 3,
   "metadata": {},
   "outputs": [],
   "source": [
    "# Python 3.5 \n",
    "\n",
    "async def sleeper():        # or `async` => `@asyncio.coroutine` (as deco)\n",
    "    await asyncio.sleep(1)  # still `yield from` (its wrapper & some checks)"
   ]
  },
  {
   "cell_type": "markdown",
   "metadata": {},
   "source": [
    "### 0x02"
   ]
  },
  {
   "cell_type": "markdown",
   "metadata": {},
   "source": [
    "why async\n",
    "- it will (make the code) <q>*not blocking the main thread*</q>\n",
    "- In plain words, \"I can eat while playin' games!!\". (XD)\n",
    "\n",
    "quotes\n",
    "> instead of ```while True: fh.read()``` (always busy),<br>we can just respond whenever there's new data (by using ```asyncio```)"
   ]
  },
  {
   "cell_type": "markdown",
   "metadata": {},
   "source": [
    "### 0x03"
   ]
  },
  {
   "cell_type": "code",
   "execution_count": 4,
   "metadata": {},
   "outputs": [],
   "source": [
    "async def sleeper(delay):\n",
    "    \n",
    "    # This 'sleep' allow python to switch to other tasks,\n",
    "    #   while the \"original\" will keep the (py) process busy.\n",
    "    await asyncio.sleep(delay)  \n",
    "    \n",
    "    print(f'finished `sleeper` with delay: {delay}')"
   ]
  },
  {
   "cell_type": "code",
   "execution_count": 5,
   "metadata": {
    "scrolled": true
   },
   "outputs": [
    {
     "name": "stdout",
     "output_type": "stream",
     "text": [
      "finished `sleeper` with delay: 0.5\n",
      "finished `sleeper` with delay: 1.0\n",
      "finished `sleeper` with delay: 2.5\n"
     ]
    }
   ],
   "source": [
    "# it was used for switching between the coroutines \n",
    "#   this is the core concept about 'eventloop'\n",
    "#   that is, \"it decides which task to run\" :D\n",
    "loop = asyncio.get_event_loop()  \n",
    "\n",
    "try:\n",
    "    result = loop.run_until_complete(\n",
    "        asyncio.wait((     # 'wait' kinda does the \"dirty work\"\n",
    "            sleeper(0.5),  \n",
    "            sleeper(2.5), \n",
    "            sleeper(1.0), \n",
    "        ))\n",
    "    )\n",
    "except RuntimeError: \n",
    "    pass"
   ]
  },
  {
   "cell_type": "markdown",
   "metadata": {},
   "source": [
    "### 0x04 "
   ]
  },
  {
   "cell_type": "code",
   "execution_count": 6,
   "metadata": {},
   "outputs": [
    {
     "name": "stdout",
     "output_type": "stream",
     "text": [
      "\u001b[31m./lib/part_06_asyncio/001_futures_and_tasks.py\u001b[m\u001b[m\n",
      "\u001b[31m./lib/part_06_asyncio/002_debugging_it.py\u001b[m\u001b[m\n"
     ]
    }
   ],
   "source": [
    "# check these files \n",
    "\n",
    "!ls ./lib/part_06_asyncio/*future*task*\n",
    "!ls ./lib/part_06_asyncio/*debug*"
   ]
  },
  {
   "cell_type": "markdown",
   "metadata": {},
   "source": [
    "### 0x05 "
   ]
  },
  {
   "cell_type": "markdown",
   "metadata": {},
   "source": [
    "event loop implementations\n",
    "- ```async.SelectorEventLoop```\n",
    "- ```async.ProactorEventLoop``` <small>(Windows only)</small>"
   ]
  },
  {
   "cell_type": "code",
   "execution_count": 12,
   "metadata": {},
   "outputs": [
    {
     "name": "stdout",
     "output_type": "stream",
     "text": [
      "\u001b[31m./lib/part_06_asyncio/003_evtloop_impl_selector.py\u001b[m\u001b[m\r\n"
     ]
    }
   ],
   "source": [
    "!ls ./lib/part_06_asyncio/*impl*select*"
   ]
  },
  {
   "cell_type": "markdown",
   "metadata": {},
   "source": [
    "### 0x06 "
   ]
  },
  {
   "cell_type": "markdown",
   "metadata": {},
   "source": [
    "event loop usage"
   ]
  },
  {
   "cell_type": "code",
   "execution_count": 11,
   "metadata": {},
   "outputs": [
    {
     "name": "stdout",
     "output_type": "stream",
     "text": [
      "\u001b[31m./lib/part_06_asyncio/004_evtloop_usage_basic.py\u001b[m\u001b[m\r\n",
      "\u001b[31m./lib/part_06_asyncio/005_evtloop_usage_withasync.py\u001b[m\u001b[m\r\n"
     ]
    }
   ],
   "source": [
    "!ls ./lib/part_06_asyncio/*evtloop*usage*"
   ]
  },
  {
   "cell_type": "code",
   "execution_count": null,
   "metadata": {},
   "outputs": [],
   "source": []
  }
 ],
 "metadata": {
  "kernelspec": {
   "display_name": "Python 3",
   "language": "python",
   "name": "python3"
  },
  "language_info": {
   "codemirror_mode": {
    "name": "ipython",
    "version": 3
   },
   "file_extension": ".py",
   "mimetype": "text/x-python",
   "name": "python",
   "nbconvert_exporter": "python",
   "pygments_lexer": "ipython3",
   "version": "3.6.5"
  }
 },
 "nbformat": 4,
 "nbformat_minor": 2
}
